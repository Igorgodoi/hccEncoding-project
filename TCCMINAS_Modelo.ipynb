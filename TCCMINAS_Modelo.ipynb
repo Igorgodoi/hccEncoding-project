{
  "nbformat": 4,
  "nbformat_minor": 0,
  "metadata": {
    "colab": {
      "name": "TCCMINAS_Modelo.ipynb",
      "provenance": [],
      "collapsed_sections": [],
      "authorship_tag": "ABX9TyPvqPds2FzhmeUYgCnY79or",
      "include_colab_link": true
    },
    "kernelspec": {
      "name": "python3",
      "display_name": "Python 3"
    }
  },
  "cells": [
    {
      "cell_type": "markdown",
      "metadata": {
        "id": "view-in-github",
        "colab_type": "text"
      },
      "source": [
        "<a href=\"https://colab.research.google.com/github/Igorgodoi/hccEncoding-project/blob/master/TCCMINAS_Modelo.ipynb\" target=\"_parent\"><img src=\"https://colab.research.google.com/assets/colab-badge.svg\" alt=\"Open In Colab\"/></a>"
      ]
    },
    {
      "cell_type": "code",
      "metadata": {
        "id": "KdtSHW8WIK2H",
        "colab_type": "code",
        "colab": {}
      },
      "source": [
        "# Autor: Igor Reis de Godoi\n",
        "# TCC PUCMINAS 2020 - Predição da duração de uma audiência trabalhista\n",
        "# Quarta Parte: Criação de Modelos de Machine Learning"
      ],
      "execution_count": 1,
      "outputs": []
    },
    {
      "cell_type": "code",
      "metadata": {
        "id": "s9XYBxEkIRNN",
        "colab_type": "code",
        "colab": {
          "base_uri": "https://localhost:8080/",
          "height": 34
        },
        "outputId": "0d7e865a-8ee3-45d0-b1f4-9bec2cb3f407"
      },
      "source": [
        "from google.colab import drive\n",
        "import matplotlib.pyplot as plt\n",
        "%matplotlib inline\n",
        "%pylab inline\n",
        "import numpy as np\n",
        "import pandas as pd\n",
        "plt.style.use('ggplot')"
      ],
      "execution_count": 2,
      "outputs": [
        {
          "output_type": "stream",
          "text": [
            "Populating the interactive namespace from numpy and matplotlib\n"
          ],
          "name": "stdout"
        }
      ]
    },
    {
      "cell_type": "code",
      "metadata": {
        "id": "xYVqYDWxIT2f",
        "colab_type": "code",
        "colab": {
          "base_uri": "https://localhost:8080/",
          "height": 122
        },
        "outputId": "faa85533-bcc1-4b8a-b5dc-b2d63ee6ec2c"
      },
      "source": [
        "# Importando o dataset audiencias processada\n",
        "drive.mount('/content/drive')\n",
        "df_audiencia = pd.read_csv('/content/drive/My Drive/Colab Notebooks/datasets/audiencia_processada.csv', encoding='CP1252')\n",
        "# Eliminando coluna municipio, pois é redundante com nome_municipio\n",
        "df_audiencia=df_audiencia.drop(['municipio','Unnamed: 0','dt_inicio_programada','hora_abertura','hora_encerramento', 'data_audiencia' , 'dia_semana', 'minutos_do_dia'], axis=1)"
      ],
      "execution_count": 3,
      "outputs": [
        {
          "output_type": "stream",
          "text": [
            "Go to this URL in a browser: https://accounts.google.com/o/oauth2/auth?client_id=947318989803-6bn6qk8qdgf4n4g3pfee6491hc0brc4i.apps.googleusercontent.com&redirect_uri=urn%3aietf%3awg%3aoauth%3a2.0%3aoob&scope=email%20https%3a%2f%2fwww.googleapis.com%2fauth%2fdocs.test%20https%3a%2f%2fwww.googleapis.com%2fauth%2fdrive%20https%3a%2f%2fwww.googleapis.com%2fauth%2fdrive.photos.readonly%20https%3a%2f%2fwww.googleapis.com%2fauth%2fpeopleapi.readonly&response_type=code\n",
            "\n",
            "Enter your authorization code:\n",
            "··········\n",
            "Mounted at /content/drive\n"
          ],
          "name": "stdout"
        }
      ]
    },
    {
      "cell_type": "code",
      "metadata": {
        "id": "yrYrmtUBJqsf",
        "colab_type": "code",
        "colab": {
          "base_uri": "https://localhost:8080/",
          "height": 496
        },
        "outputId": "5fa18e96-87c4-4a44-88cc-2527945f4062"
      },
      "source": [
        "# Ajustando tipagem de colunas\n",
        "colunas_categoricas = ['uf_municipio', 'nome_municipio', 'tipo_audiencia', 'vara_trabalho', 'classe_processual', 'juiz', 'sala_audiencia', \n",
        "                       'atividade_economica', 'assunto', 'autor', 'reu','marcacao_automatica', 'apos_reforma_trabalhista', 'segredo_justica',\n",
        "                       'justica_gratuita','tutela_liminar','prioridade']\n",
        "for coluna in colunas_categoricas:\n",
        "  df_audiencia[coluna] = df_audiencia[coluna].astype('category')\n",
        "\n",
        "\n",
        "df_audiencia.head()"
      ],
      "execution_count": 4,
      "outputs": [
        {
          "output_type": "execute_result",
          "data": {
            "text/html": [
              "<div>\n",
              "<style scoped>\n",
              "    .dataframe tbody tr th:only-of-type {\n",
              "        vertical-align: middle;\n",
              "    }\n",
              "\n",
              "    .dataframe tbody tr th {\n",
              "        vertical-align: top;\n",
              "    }\n",
              "\n",
              "    .dataframe thead th {\n",
              "        text-align: right;\n",
              "    }\n",
              "</style>\n",
              "<table border=\"1\" class=\"dataframe\">\n",
              "  <thead>\n",
              "    <tr style=\"text-align: right;\">\n",
              "      <th></th>\n",
              "      <th>uf_municipio</th>\n",
              "      <th>nome_municipio</th>\n",
              "      <th>populacao_estimada2019_municipio</th>\n",
              "      <th>tipo_audiencia</th>\n",
              "      <th>vara_trabalho</th>\n",
              "      <th>classe_processual</th>\n",
              "      <th>juiz</th>\n",
              "      <th>marcacao_automatica</th>\n",
              "      <th>sala_audiencia</th>\n",
              "      <th>apos_reforma_trabalhista</th>\n",
              "      <th>valor_causa</th>\n",
              "      <th>segredo_justica</th>\n",
              "      <th>justica_gratuita</th>\n",
              "      <th>tutela_liminar</th>\n",
              "      <th>prioridade</th>\n",
              "      <th>atividade_economica</th>\n",
              "      <th>assunto</th>\n",
              "      <th>autor</th>\n",
              "      <th>reu</th>\n",
              "      <th>duracao_audiencia</th>\n",
              "    </tr>\n",
              "  </thead>\n",
              "  <tbody>\n",
              "    <tr>\n",
              "      <th>0</th>\n",
              "      <td>RO</td>\n",
              "      <td>Cacoal</td>\n",
              "      <td>85359</td>\n",
              "      <td>Inquirição Testemunha</td>\n",
              "      <td>863</td>\n",
              "      <td>CartPrecCiv</td>\n",
              "      <td>64921</td>\n",
              "      <td>Manual</td>\n",
              "      <td>71</td>\n",
              "      <td>Apos Reforma</td>\n",
              "      <td>2000.00</td>\n",
              "      <td>Sem Segredo</td>\n",
              "      <td>Nao Gratuita</td>\n",
              "      <td>Sem tutela</td>\n",
              "      <td>Sem Prioridade</td>\n",
              "      <td>ATIVIDADE NÃO IDENTIFICADA</td>\n",
              "      <td>Objetos de Cartas Precatórias / de Ordem / Rog...</td>\n",
              "      <td>554672</td>\n",
              "      <td>863690</td>\n",
              "      <td>5</td>\n",
              "    </tr>\n",
              "    <tr>\n",
              "      <th>1</th>\n",
              "      <td>RO</td>\n",
              "      <td>Cacoal</td>\n",
              "      <td>85359</td>\n",
              "      <td>Inquirição Testemunha</td>\n",
              "      <td>1465</td>\n",
              "      <td>CartPrecCiv</td>\n",
              "      <td>174280</td>\n",
              "      <td>Manual</td>\n",
              "      <td>149</td>\n",
              "      <td>Apos Reforma</td>\n",
              "      <td>300000.00</td>\n",
              "      <td>Sem Segredo</td>\n",
              "      <td>Nao Gratuita</td>\n",
              "      <td>Sem tutela</td>\n",
              "      <td>Sem Prioridade</td>\n",
              "      <td>COMÉRCIO VAREJISTA</td>\n",
              "      <td>Objetos de Cartas Precatórias / de Ordem / Rog...</td>\n",
              "      <td>529280</td>\n",
              "      <td>47786</td>\n",
              "      <td>5</td>\n",
              "    </tr>\n",
              "    <tr>\n",
              "      <th>2</th>\n",
              "      <td>RO</td>\n",
              "      <td>Guajará-Mirim</td>\n",
              "      <td>46174</td>\n",
              "      <td>Una</td>\n",
              "      <td>659</td>\n",
              "      <td>ATOrd</td>\n",
              "      <td>195134</td>\n",
              "      <td>Manual</td>\n",
              "      <td>29</td>\n",
              "      <td>Apos Reforma</td>\n",
              "      <td>38203.21</td>\n",
              "      <td>Sem Segredo</td>\n",
              "      <td>Gratuita</td>\n",
              "      <td>Sem tutela</td>\n",
              "      <td>Sem Prioridade</td>\n",
              "      <td>ESPORTE E LAZER</td>\n",
              "      <td>Remuneração, Verbas Indenizatórias e Benefícios</td>\n",
              "      <td>970398</td>\n",
              "      <td>970401</td>\n",
              "      <td>15</td>\n",
              "    </tr>\n",
              "    <tr>\n",
              "      <th>3</th>\n",
              "      <td>RO</td>\n",
              "      <td>Ji-Paraná</td>\n",
              "      <td>128969</td>\n",
              "      <td>Inquirição Testemunha</td>\n",
              "      <td>20</td>\n",
              "      <td>CartPrecCiv</td>\n",
              "      <td>7711</td>\n",
              "      <td>Manual</td>\n",
              "      <td>236</td>\n",
              "      <td>Apos Reforma</td>\n",
              "      <td>2000.00</td>\n",
              "      <td>Sem Segredo</td>\n",
              "      <td>Nao Gratuita</td>\n",
              "      <td>Sem tutela</td>\n",
              "      <td>Sem Prioridade</td>\n",
              "      <td>SAÚDE</td>\n",
              "      <td>Objetos de Cartas Precatórias / de Ordem / Rog...</td>\n",
              "      <td>1140000</td>\n",
              "      <td>1140002</td>\n",
              "      <td>8</td>\n",
              "    </tr>\n",
              "    <tr>\n",
              "      <th>4</th>\n",
              "      <td>RO</td>\n",
              "      <td>Porto Velho</td>\n",
              "      <td>529544</td>\n",
              "      <td>Conciliação em Execução</td>\n",
              "      <td>653</td>\n",
              "      <td>ETCiv</td>\n",
              "      <td>100086</td>\n",
              "      <td>Manual</td>\n",
              "      <td>165</td>\n",
              "      <td>Apos Reforma</td>\n",
              "      <td>2000.00</td>\n",
              "      <td>Sem Segredo</td>\n",
              "      <td>Nao Gratuita</td>\n",
              "      <td>Sem tutela</td>\n",
              "      <td>Sem Prioridade</td>\n",
              "      <td>COMÉRCIO VAREJISTA</td>\n",
              "      <td>Atos executórios</td>\n",
              "      <td>860039</td>\n",
              "      <td>253308</td>\n",
              "      <td>3</td>\n",
              "    </tr>\n",
              "  </tbody>\n",
              "</table>\n",
              "</div>"
            ],
            "text/plain": [
              "  uf_municipio nome_municipio  ...      reu duracao_audiencia\n",
              "0           RO         Cacoal  ...   863690                 5\n",
              "1           RO         Cacoal  ...    47786                 5\n",
              "2           RO  Guajará-Mirim  ...   970401                15\n",
              "3           RO      Ji-Paraná  ...  1140002                 8\n",
              "4           RO    Porto Velho  ...   253308                 3\n",
              "\n",
              "[5 rows x 20 columns]"
            ]
          },
          "metadata": {
            "tags": []
          },
          "execution_count": 4
        }
      ]
    },
    {
      "cell_type": "code",
      "metadata": {
        "id": "9lbQ2YRJwTeb",
        "colab_type": "code",
        "colab": {
          "base_uri": "https://localhost:8080/",
          "height": 476
        },
        "outputId": "c2727cdf-e2e0-4143-b56a-824538827991"
      },
      "source": [
        "df_audiencia.info()"
      ],
      "execution_count": 5,
      "outputs": [
        {
          "output_type": "stream",
          "text": [
            "<class 'pandas.core.frame.DataFrame'>\n",
            "RangeIndex: 250145 entries, 0 to 250144\n",
            "Data columns (total 20 columns):\n",
            " #   Column                            Non-Null Count   Dtype   \n",
            "---  ------                            --------------   -----   \n",
            " 0   uf_municipio                      250145 non-null  category\n",
            " 1   nome_municipio                    250145 non-null  category\n",
            " 2   populacao_estimada2019_municipio  250145 non-null  int64   \n",
            " 3   tipo_audiencia                    250145 non-null  category\n",
            " 4   vara_trabalho                     250145 non-null  category\n",
            " 5   classe_processual                 250145 non-null  category\n",
            " 6   juiz                              250145 non-null  category\n",
            " 7   marcacao_automatica               250145 non-null  category\n",
            " 8   sala_audiencia                    250145 non-null  category\n",
            " 9   apos_reforma_trabalhista          250145 non-null  category\n",
            " 10  valor_causa                       250145 non-null  float64 \n",
            " 11  segredo_justica                   250145 non-null  category\n",
            " 12  justica_gratuita                  250145 non-null  category\n",
            " 13  tutela_liminar                    250145 non-null  category\n",
            " 14  prioridade                        250145 non-null  category\n",
            " 15  atividade_economica               250145 non-null  category\n",
            " 16  assunto                           250145 non-null  category\n",
            " 17  autor                             250145 non-null  category\n",
            " 18  reu                               250145 non-null  category\n",
            " 19  duracao_audiencia                 250145 non-null  int64   \n",
            "dtypes: category(17), float64(1), int64(2)\n",
            "memory usage: 21.4 MB\n"
          ],
          "name": "stdout"
        }
      ]
    },
    {
      "cell_type": "code",
      "metadata": {
        "id": "8G81MmkhJHES",
        "colab_type": "code",
        "colab": {}
      },
      "source": [
        "from sklearn.tree import DecisionTreeRegressor,export_graphviz\n",
        "from sklearn.model_selection import train_test_split\n",
        "from sklearn import metrics"
      ],
      "execution_count": 6,
      "outputs": []
    },
    {
      "cell_type": "code",
      "metadata": {
        "id": "I0wWPb3jJeJJ",
        "colab_type": "code",
        "colab": {}
      },
      "source": [
        "# Dividindo os dados em treino e teste:\n",
        "X_train, X_test, y_train, y_test = train_test_split(df_audiencia.drop('duracao_audiencia',axis=1),df_audiencia['duracao_audiencia'],test_size=0.3, random_state=0)\n",
        "df_audiencia_train=pd.concat([X_train,y_train], axis=1)\n",
        "df_audiencia_test=pd.concat([X_test,y_test], axis=1)"
      ],
      "execution_count": 7,
      "outputs": []
    },
    {
      "cell_type": "code",
      "metadata": {
        "id": "fqhGXXRhJ-JH",
        "colab_type": "code",
        "colab": {
          "base_uri": "https://localhost:8080/",
          "height": 34
        },
        "outputId": "b74c54ea-c2f1-412c-df87-9d864ab94490"
      },
      "source": [
        "print(X_train.shape, X_test.shape, df_audiencia_train.shape, df_audiencia_test.shape)"
      ],
      "execution_count": 8,
      "outputs": [
        {
          "output_type": "stream",
          "text": [
            "(175101, 19) (75044, 19) (175101, 20) (75044, 20)\n"
          ],
          "name": "stdout"
        }
      ]
    },
    {
      "cell_type": "code",
      "metadata": {
        "id": "MWdHEAEX44Cq",
        "colab_type": "code",
        "colab": {
          "base_uri": "https://localhost:8080/",
          "height": 360
        },
        "outputId": "d01b2796-50ec-4b21-cd1c-7c243d1afd3b"
      },
      "source": [
        "X_train.head()"
      ],
      "execution_count": 9,
      "outputs": [
        {
          "output_type": "execute_result",
          "data": {
            "text/html": [
              "<div>\n",
              "<style scoped>\n",
              "    .dataframe tbody tr th:only-of-type {\n",
              "        vertical-align: middle;\n",
              "    }\n",
              "\n",
              "    .dataframe tbody tr th {\n",
              "        vertical-align: top;\n",
              "    }\n",
              "\n",
              "    .dataframe thead th {\n",
              "        text-align: right;\n",
              "    }\n",
              "</style>\n",
              "<table border=\"1\" class=\"dataframe\">\n",
              "  <thead>\n",
              "    <tr style=\"text-align: right;\">\n",
              "      <th></th>\n",
              "      <th>uf_municipio</th>\n",
              "      <th>nome_municipio</th>\n",
              "      <th>populacao_estimada2019_municipio</th>\n",
              "      <th>tipo_audiencia</th>\n",
              "      <th>vara_trabalho</th>\n",
              "      <th>classe_processual</th>\n",
              "      <th>juiz</th>\n",
              "      <th>marcacao_automatica</th>\n",
              "      <th>sala_audiencia</th>\n",
              "      <th>apos_reforma_trabalhista</th>\n",
              "      <th>valor_causa</th>\n",
              "      <th>segredo_justica</th>\n",
              "      <th>justica_gratuita</th>\n",
              "      <th>tutela_liminar</th>\n",
              "      <th>prioridade</th>\n",
              "      <th>atividade_economica</th>\n",
              "      <th>assunto</th>\n",
              "      <th>autor</th>\n",
              "      <th>reu</th>\n",
              "    </tr>\n",
              "  </thead>\n",
              "  <tbody>\n",
              "    <tr>\n",
              "      <th>84807</th>\n",
              "      <td>PR</td>\n",
              "      <td>Curitiba</td>\n",
              "      <td>1933105</td>\n",
              "      <td>Instrução</td>\n",
              "      <td>3</td>\n",
              "      <td>ATOrd</td>\n",
              "      <td>128817</td>\n",
              "      <td>Manual</td>\n",
              "      <td>285</td>\n",
              "      <td>Antes Reforma</td>\n",
              "      <td>37000.00</td>\n",
              "      <td>Sem Segredo</td>\n",
              "      <td>Gratuita</td>\n",
              "      <td>Sem tutela</td>\n",
              "      <td>Sem Prioridade</td>\n",
              "      <td>COMÉRCIO VAREJISTA</td>\n",
              "      <td>Horas Extras</td>\n",
              "      <td>383783</td>\n",
              "      <td>94097</td>\n",
              "    </tr>\n",
              "    <tr>\n",
              "      <th>181853</th>\n",
              "      <td>PR</td>\n",
              "      <td>Maringá</td>\n",
              "      <td>423666</td>\n",
              "      <td>Inicial</td>\n",
              "      <td>662</td>\n",
              "      <td>ATOrd</td>\n",
              "      <td>112579</td>\n",
              "      <td>Manual</td>\n",
              "      <td>233</td>\n",
              "      <td>Antes Reforma</td>\n",
              "      <td>45000.00</td>\n",
              "      <td>Sem Segredo</td>\n",
              "      <td>Gratuita</td>\n",
              "      <td>Sem tutela</td>\n",
              "      <td>Sem Prioridade</td>\n",
              "      <td>ATIVIDADES ARTÍSTICAS E CULTURAIS</td>\n",
              "      <td>Contrato Individual de Trabalho</td>\n",
              "      <td>756660</td>\n",
              "      <td>543992</td>\n",
              "    </tr>\n",
              "    <tr>\n",
              "      <th>23406</th>\n",
              "      <td>PR</td>\n",
              "      <td>Campo Mourão</td>\n",
              "      <td>94859</td>\n",
              "      <td>Inicial</td>\n",
              "      <td>91</td>\n",
              "      <td>ATOrd</td>\n",
              "      <td>195125</td>\n",
              "      <td>Sugerida</td>\n",
              "      <td>229</td>\n",
              "      <td>Apos Reforma</td>\n",
              "      <td>221553.11</td>\n",
              "      <td>Sem Segredo</td>\n",
              "      <td>Gratuita</td>\n",
              "      <td>Houve tutela</td>\n",
              "      <td>Sem Prioridade</td>\n",
              "      <td>COMÉRCIO ATACADISTA E ARMAZENADOR</td>\n",
              "      <td>Contrato Individual de Trabalho</td>\n",
              "      <td>1209704</td>\n",
              "      <td>135162</td>\n",
              "    </tr>\n",
              "    <tr>\n",
              "      <th>186148</th>\n",
              "      <td>PR</td>\n",
              "      <td>Maringá</td>\n",
              "      <td>423666</td>\n",
              "      <td>Instrução</td>\n",
              "      <td>661</td>\n",
              "      <td>ATOrd</td>\n",
              "      <td>95758</td>\n",
              "      <td>Manual</td>\n",
              "      <td>201</td>\n",
              "      <td>Antes Reforma</td>\n",
              "      <td>50000.00</td>\n",
              "      <td>Sem Segredo</td>\n",
              "      <td>Gratuita</td>\n",
              "      <td>Sem tutela</td>\n",
              "      <td>Sem Prioridade</td>\n",
              "      <td>RESTAURANTES, BARES E SIMILARES</td>\n",
              "      <td>Verbas Rescisórias</td>\n",
              "      <td>613913</td>\n",
              "      <td>613918</td>\n",
              "    </tr>\n",
              "    <tr>\n",
              "      <th>6285</th>\n",
              "      <td>PR</td>\n",
              "      <td>Arapongas</td>\n",
              "      <td>123027</td>\n",
              "      <td>Instrução</td>\n",
              "      <td>653</td>\n",
              "      <td>ATOrd</td>\n",
              "      <td>125096</td>\n",
              "      <td>Manual</td>\n",
              "      <td>74</td>\n",
              "      <td>Antes Reforma</td>\n",
              "      <td>40000.00</td>\n",
              "      <td>Sem Segredo</td>\n",
              "      <td>Gratuita</td>\n",
              "      <td>Sem tutela</td>\n",
              "      <td>Sem Prioridade</td>\n",
              "      <td>ATIVIDADE NÃO CLASSIFICADA NA TABELA</td>\n",
              "      <td>Responsabilidade Solidária / Subsidiária</td>\n",
              "      <td>543958</td>\n",
              "      <td>39394</td>\n",
              "    </tr>\n",
              "  </tbody>\n",
              "</table>\n",
              "</div>"
            ],
            "text/plain": [
              "       uf_municipio nome_municipio  ...    autor     reu\n",
              "84807            PR       Curitiba  ...   383783   94097\n",
              "181853           PR        Maringá  ...   756660  543992\n",
              "23406            PR   Campo Mourão  ...  1209704  135162\n",
              "186148           PR        Maringá  ...   613913  613918\n",
              "6285             PR      Arapongas  ...   543958   39394\n",
              "\n",
              "[5 rows x 19 columns]"
            ]
          },
          "metadata": {
            "tags": []
          },
          "execution_count": 9
        }
      ]
    },
    {
      "cell_type": "code",
      "metadata": {
        "id": "AleH_3434-Og",
        "colab_type": "code",
        "colab": {
          "base_uri": "https://localhost:8080/",
          "height": 119
        },
        "outputId": "6f000945-b114-4f99-b2b8-8f39d8226347"
      },
      "source": [
        "y_train.head()"
      ],
      "execution_count": 10,
      "outputs": [
        {
          "output_type": "execute_result",
          "data": {
            "text/plain": [
              "84807     11\n",
              "181853     3\n",
              "23406      4\n",
              "186148     6\n",
              "6285       8\n",
              "Name: duracao_audiencia, dtype: int64"
            ]
          },
          "metadata": {
            "tags": []
          },
          "execution_count": 10
        }
      ]
    },
    {
      "cell_type": "code",
      "metadata": {
        "id": "oMotiM4z5BL6",
        "colab_type": "code",
        "colab": {
          "base_uri": "https://localhost:8080/",
          "height": 360
        },
        "outputId": "d89310a1-45c0-4ee4-ae66-225d931a03f6"
      },
      "source": [
        "df_audiencia_train.head()"
      ],
      "execution_count": 11,
      "outputs": [
        {
          "output_type": "execute_result",
          "data": {
            "text/html": [
              "<div>\n",
              "<style scoped>\n",
              "    .dataframe tbody tr th:only-of-type {\n",
              "        vertical-align: middle;\n",
              "    }\n",
              "\n",
              "    .dataframe tbody tr th {\n",
              "        vertical-align: top;\n",
              "    }\n",
              "\n",
              "    .dataframe thead th {\n",
              "        text-align: right;\n",
              "    }\n",
              "</style>\n",
              "<table border=\"1\" class=\"dataframe\">\n",
              "  <thead>\n",
              "    <tr style=\"text-align: right;\">\n",
              "      <th></th>\n",
              "      <th>uf_municipio</th>\n",
              "      <th>nome_municipio</th>\n",
              "      <th>populacao_estimada2019_municipio</th>\n",
              "      <th>tipo_audiencia</th>\n",
              "      <th>vara_trabalho</th>\n",
              "      <th>classe_processual</th>\n",
              "      <th>juiz</th>\n",
              "      <th>marcacao_automatica</th>\n",
              "      <th>sala_audiencia</th>\n",
              "      <th>apos_reforma_trabalhista</th>\n",
              "      <th>valor_causa</th>\n",
              "      <th>segredo_justica</th>\n",
              "      <th>justica_gratuita</th>\n",
              "      <th>tutela_liminar</th>\n",
              "      <th>prioridade</th>\n",
              "      <th>atividade_economica</th>\n",
              "      <th>assunto</th>\n",
              "      <th>autor</th>\n",
              "      <th>reu</th>\n",
              "      <th>duracao_audiencia</th>\n",
              "    </tr>\n",
              "  </thead>\n",
              "  <tbody>\n",
              "    <tr>\n",
              "      <th>84807</th>\n",
              "      <td>PR</td>\n",
              "      <td>Curitiba</td>\n",
              "      <td>1933105</td>\n",
              "      <td>Instrução</td>\n",
              "      <td>3</td>\n",
              "      <td>ATOrd</td>\n",
              "      <td>128817</td>\n",
              "      <td>Manual</td>\n",
              "      <td>285</td>\n",
              "      <td>Antes Reforma</td>\n",
              "      <td>37000.00</td>\n",
              "      <td>Sem Segredo</td>\n",
              "      <td>Gratuita</td>\n",
              "      <td>Sem tutela</td>\n",
              "      <td>Sem Prioridade</td>\n",
              "      <td>COMÉRCIO VAREJISTA</td>\n",
              "      <td>Horas Extras</td>\n",
              "      <td>383783</td>\n",
              "      <td>94097</td>\n",
              "      <td>11</td>\n",
              "    </tr>\n",
              "    <tr>\n",
              "      <th>181853</th>\n",
              "      <td>PR</td>\n",
              "      <td>Maringá</td>\n",
              "      <td>423666</td>\n",
              "      <td>Inicial</td>\n",
              "      <td>662</td>\n",
              "      <td>ATOrd</td>\n",
              "      <td>112579</td>\n",
              "      <td>Manual</td>\n",
              "      <td>233</td>\n",
              "      <td>Antes Reforma</td>\n",
              "      <td>45000.00</td>\n",
              "      <td>Sem Segredo</td>\n",
              "      <td>Gratuita</td>\n",
              "      <td>Sem tutela</td>\n",
              "      <td>Sem Prioridade</td>\n",
              "      <td>ATIVIDADES ARTÍSTICAS E CULTURAIS</td>\n",
              "      <td>Contrato Individual de Trabalho</td>\n",
              "      <td>756660</td>\n",
              "      <td>543992</td>\n",
              "      <td>3</td>\n",
              "    </tr>\n",
              "    <tr>\n",
              "      <th>23406</th>\n",
              "      <td>PR</td>\n",
              "      <td>Campo Mourão</td>\n",
              "      <td>94859</td>\n",
              "      <td>Inicial</td>\n",
              "      <td>91</td>\n",
              "      <td>ATOrd</td>\n",
              "      <td>195125</td>\n",
              "      <td>Sugerida</td>\n",
              "      <td>229</td>\n",
              "      <td>Apos Reforma</td>\n",
              "      <td>221553.11</td>\n",
              "      <td>Sem Segredo</td>\n",
              "      <td>Gratuita</td>\n",
              "      <td>Houve tutela</td>\n",
              "      <td>Sem Prioridade</td>\n",
              "      <td>COMÉRCIO ATACADISTA E ARMAZENADOR</td>\n",
              "      <td>Contrato Individual de Trabalho</td>\n",
              "      <td>1209704</td>\n",
              "      <td>135162</td>\n",
              "      <td>4</td>\n",
              "    </tr>\n",
              "    <tr>\n",
              "      <th>186148</th>\n",
              "      <td>PR</td>\n",
              "      <td>Maringá</td>\n",
              "      <td>423666</td>\n",
              "      <td>Instrução</td>\n",
              "      <td>661</td>\n",
              "      <td>ATOrd</td>\n",
              "      <td>95758</td>\n",
              "      <td>Manual</td>\n",
              "      <td>201</td>\n",
              "      <td>Antes Reforma</td>\n",
              "      <td>50000.00</td>\n",
              "      <td>Sem Segredo</td>\n",
              "      <td>Gratuita</td>\n",
              "      <td>Sem tutela</td>\n",
              "      <td>Sem Prioridade</td>\n",
              "      <td>RESTAURANTES, BARES E SIMILARES</td>\n",
              "      <td>Verbas Rescisórias</td>\n",
              "      <td>613913</td>\n",
              "      <td>613918</td>\n",
              "      <td>6</td>\n",
              "    </tr>\n",
              "    <tr>\n",
              "      <th>6285</th>\n",
              "      <td>PR</td>\n",
              "      <td>Arapongas</td>\n",
              "      <td>123027</td>\n",
              "      <td>Instrução</td>\n",
              "      <td>653</td>\n",
              "      <td>ATOrd</td>\n",
              "      <td>125096</td>\n",
              "      <td>Manual</td>\n",
              "      <td>74</td>\n",
              "      <td>Antes Reforma</td>\n",
              "      <td>40000.00</td>\n",
              "      <td>Sem Segredo</td>\n",
              "      <td>Gratuita</td>\n",
              "      <td>Sem tutela</td>\n",
              "      <td>Sem Prioridade</td>\n",
              "      <td>ATIVIDADE NÃO CLASSIFICADA NA TABELA</td>\n",
              "      <td>Responsabilidade Solidária / Subsidiária</td>\n",
              "      <td>543958</td>\n",
              "      <td>39394</td>\n",
              "      <td>8</td>\n",
              "    </tr>\n",
              "  </tbody>\n",
              "</table>\n",
              "</div>"
            ],
            "text/plain": [
              "       uf_municipio nome_municipio  ...     reu duracao_audiencia\n",
              "84807            PR       Curitiba  ...   94097                11\n",
              "181853           PR        Maringá  ...  543992                 3\n",
              "23406            PR   Campo Mourão  ...  135162                 4\n",
              "186148           PR        Maringá  ...  613918                 6\n",
              "6285             PR      Arapongas  ...   39394                 8\n",
              "\n",
              "[5 rows x 20 columns]"
            ]
          },
          "metadata": {
            "tags": []
          },
          "execution_count": 11
        }
      ]
    },
    {
      "cell_type": "code",
      "metadata": {
        "id": "lntMmPlKxrgL",
        "colab_type": "code",
        "colab": {}
      },
      "source": [
        "# Primeira predição, sem nenhum tratamento\n",
        "from sklearn.ensemble import RandomForestRegressor\n",
        "from sklearn.metrics import mean_absolute_error"
      ],
      "execution_count": 12,
      "outputs": []
    },
    {
      "cell_type": "code",
      "metadata": {
        "id": "2gWOzlZCySTt",
        "colab_type": "code",
        "colab": {
          "base_uri": "https://localhost:8080/",
          "height": 323
        },
        "outputId": "bc3ba433-ce05-44de-c4aa-74b2ee755b3b"
      },
      "source": [
        "modelo1 = RandomForestRegressor(n_jobs=6, n_estimators=100, random_state=0)\n",
        "modelo1.fit(X_train, y_train)"
      ],
      "execution_count": 13,
      "outputs": [
        {
          "output_type": "error",
          "ename": "ValueError",
          "evalue": "ignored",
          "traceback": [
            "\u001b[0;31m---------------------------------------------------------------------------\u001b[0m",
            "\u001b[0;31mValueError\u001b[0m                                Traceback (most recent call last)",
            "\u001b[0;32m<ipython-input-13-1b572125bf38>\u001b[0m in \u001b[0;36m<module>\u001b[0;34m()\u001b[0m\n\u001b[1;32m      1\u001b[0m \u001b[0mmodelo1\u001b[0m \u001b[0;34m=\u001b[0m \u001b[0mRandomForestRegressor\u001b[0m\u001b[0;34m(\u001b[0m\u001b[0mn_jobs\u001b[0m\u001b[0;34m=\u001b[0m\u001b[0;36m6\u001b[0m\u001b[0;34m,\u001b[0m \u001b[0mn_estimators\u001b[0m\u001b[0;34m=\u001b[0m\u001b[0;36m100\u001b[0m\u001b[0;34m,\u001b[0m \u001b[0mrandom_state\u001b[0m\u001b[0;34m=\u001b[0m\u001b[0;36m0\u001b[0m\u001b[0;34m)\u001b[0m\u001b[0;34m\u001b[0m\u001b[0;34m\u001b[0m\u001b[0m\n\u001b[0;32m----> 2\u001b[0;31m \u001b[0mmodelo1\u001b[0m\u001b[0;34m.\u001b[0m\u001b[0mfit\u001b[0m\u001b[0;34m(\u001b[0m\u001b[0mX_train\u001b[0m\u001b[0;34m,\u001b[0m \u001b[0my_train\u001b[0m\u001b[0;34m)\u001b[0m\u001b[0;34m\u001b[0m\u001b[0;34m\u001b[0m\u001b[0m\n\u001b[0m",
            "\u001b[0;32m/usr/local/lib/python3.6/dist-packages/sklearn/ensemble/_forest.py\u001b[0m in \u001b[0;36mfit\u001b[0;34m(self, X, y, sample_weight)\u001b[0m\n\u001b[1;32m    293\u001b[0m         \"\"\"\n\u001b[1;32m    294\u001b[0m         \u001b[0;31m# Validate or convert input data\u001b[0m\u001b[0;34m\u001b[0m\u001b[0;34m\u001b[0m\u001b[0;34m\u001b[0m\u001b[0m\n\u001b[0;32m--> 295\u001b[0;31m         \u001b[0mX\u001b[0m \u001b[0;34m=\u001b[0m \u001b[0mcheck_array\u001b[0m\u001b[0;34m(\u001b[0m\u001b[0mX\u001b[0m\u001b[0;34m,\u001b[0m \u001b[0maccept_sparse\u001b[0m\u001b[0;34m=\u001b[0m\u001b[0;34m\"csc\"\u001b[0m\u001b[0;34m,\u001b[0m \u001b[0mdtype\u001b[0m\u001b[0;34m=\u001b[0m\u001b[0mDTYPE\u001b[0m\u001b[0;34m)\u001b[0m\u001b[0;34m\u001b[0m\u001b[0;34m\u001b[0m\u001b[0m\n\u001b[0m\u001b[1;32m    296\u001b[0m         \u001b[0my\u001b[0m \u001b[0;34m=\u001b[0m \u001b[0mcheck_array\u001b[0m\u001b[0;34m(\u001b[0m\u001b[0my\u001b[0m\u001b[0;34m,\u001b[0m \u001b[0maccept_sparse\u001b[0m\u001b[0;34m=\u001b[0m\u001b[0;34m'csc'\u001b[0m\u001b[0;34m,\u001b[0m \u001b[0mensure_2d\u001b[0m\u001b[0;34m=\u001b[0m\u001b[0;32mFalse\u001b[0m\u001b[0;34m,\u001b[0m \u001b[0mdtype\u001b[0m\u001b[0;34m=\u001b[0m\u001b[0;32mNone\u001b[0m\u001b[0;34m)\u001b[0m\u001b[0;34m\u001b[0m\u001b[0;34m\u001b[0m\u001b[0m\n\u001b[1;32m    297\u001b[0m         \u001b[0;32mif\u001b[0m \u001b[0msample_weight\u001b[0m \u001b[0;32mis\u001b[0m \u001b[0;32mnot\u001b[0m \u001b[0;32mNone\u001b[0m\u001b[0;34m:\u001b[0m\u001b[0;34m\u001b[0m\u001b[0;34m\u001b[0m\u001b[0m\n",
            "\u001b[0;32m/usr/local/lib/python3.6/dist-packages/sklearn/utils/validation.py\u001b[0m in \u001b[0;36mcheck_array\u001b[0;34m(array, accept_sparse, accept_large_sparse, dtype, order, copy, force_all_finite, ensure_2d, allow_nd, ensure_min_samples, ensure_min_features, warn_on_dtype, estimator)\u001b[0m\n\u001b[1;32m    529\u001b[0m                     \u001b[0marray\u001b[0m \u001b[0;34m=\u001b[0m \u001b[0marray\u001b[0m\u001b[0;34m.\u001b[0m\u001b[0mastype\u001b[0m\u001b[0;34m(\u001b[0m\u001b[0mdtype\u001b[0m\u001b[0;34m,\u001b[0m \u001b[0mcasting\u001b[0m\u001b[0;34m=\u001b[0m\u001b[0;34m\"unsafe\"\u001b[0m\u001b[0;34m,\u001b[0m \u001b[0mcopy\u001b[0m\u001b[0;34m=\u001b[0m\u001b[0;32mFalse\u001b[0m\u001b[0;34m)\u001b[0m\u001b[0;34m\u001b[0m\u001b[0;34m\u001b[0m\u001b[0m\n\u001b[1;32m    530\u001b[0m                 \u001b[0;32melse\u001b[0m\u001b[0;34m:\u001b[0m\u001b[0;34m\u001b[0m\u001b[0;34m\u001b[0m\u001b[0m\n\u001b[0;32m--> 531\u001b[0;31m                     \u001b[0marray\u001b[0m \u001b[0;34m=\u001b[0m \u001b[0mnp\u001b[0m\u001b[0;34m.\u001b[0m\u001b[0masarray\u001b[0m\u001b[0;34m(\u001b[0m\u001b[0marray\u001b[0m\u001b[0;34m,\u001b[0m \u001b[0morder\u001b[0m\u001b[0;34m=\u001b[0m\u001b[0morder\u001b[0m\u001b[0;34m,\u001b[0m \u001b[0mdtype\u001b[0m\u001b[0;34m=\u001b[0m\u001b[0mdtype\u001b[0m\u001b[0;34m)\u001b[0m\u001b[0;34m\u001b[0m\u001b[0;34m\u001b[0m\u001b[0m\n\u001b[0m\u001b[1;32m    532\u001b[0m             \u001b[0;32mexcept\u001b[0m \u001b[0mComplexWarning\u001b[0m\u001b[0;34m:\u001b[0m\u001b[0;34m\u001b[0m\u001b[0;34m\u001b[0m\u001b[0m\n\u001b[1;32m    533\u001b[0m                 raise ValueError(\"Complex data not supported\\n\"\n",
            "\u001b[0;32m/usr/local/lib/python3.6/dist-packages/numpy/core/_asarray.py\u001b[0m in \u001b[0;36masarray\u001b[0;34m(a, dtype, order)\u001b[0m\n\u001b[1;32m     83\u001b[0m \u001b[0;34m\u001b[0m\u001b[0m\n\u001b[1;32m     84\u001b[0m     \"\"\"\n\u001b[0;32m---> 85\u001b[0;31m     \u001b[0;32mreturn\u001b[0m \u001b[0marray\u001b[0m\u001b[0;34m(\u001b[0m\u001b[0ma\u001b[0m\u001b[0;34m,\u001b[0m \u001b[0mdtype\u001b[0m\u001b[0;34m,\u001b[0m \u001b[0mcopy\u001b[0m\u001b[0;34m=\u001b[0m\u001b[0;32mFalse\u001b[0m\u001b[0;34m,\u001b[0m \u001b[0morder\u001b[0m\u001b[0;34m=\u001b[0m\u001b[0morder\u001b[0m\u001b[0;34m)\u001b[0m\u001b[0;34m\u001b[0m\u001b[0;34m\u001b[0m\u001b[0m\n\u001b[0m\u001b[1;32m     86\u001b[0m \u001b[0;34m\u001b[0m\u001b[0m\n\u001b[1;32m     87\u001b[0m \u001b[0;34m\u001b[0m\u001b[0m\n",
            "\u001b[0;31mValueError\u001b[0m: could not convert string to float: 'PR'"
          ]
        }
      ]
    },
    {
      "cell_type": "code",
      "metadata": {
        "id": "vvY5KFBz3TN1",
        "colab_type": "code",
        "colab": {
          "base_uri": "https://localhost:8080/",
          "height": 306
        },
        "outputId": "1326bfec-3d8c-48b1-b102-ab835a8ccadf"
      },
      "source": [
        "# Encoder Ordinal\n",
        "!pip install category_encoders\n",
        "from category_encoders.ordinal import OrdinalEncoder\n",
        "enc = OrdinalEncoder(cols=colunas_categoricas)\n",
        "enc.fit(df_audiencia_train)\n",
        "df_audiencia_train_ord = enc.transform(df_audiencia_train)"
      ],
      "execution_count": 15,
      "outputs": [
        {
          "output_type": "stream",
          "text": [
            "Collecting category_encoders\n",
            "\u001b[?25l  Downloading https://files.pythonhosted.org/packages/44/57/fcef41c248701ee62e8325026b90c432adea35555cbc870aff9cfba23727/category_encoders-2.2.2-py2.py3-none-any.whl (80kB)\n",
            "\r\u001b[K     |████                            | 10kB 21.2MB/s eta 0:00:01\r\u001b[K     |████████▏                       | 20kB 1.7MB/s eta 0:00:01\r\u001b[K     |████████████▏                   | 30kB 2.2MB/s eta 0:00:01\r\u001b[K     |████████████████▎               | 40kB 2.4MB/s eta 0:00:01\r\u001b[K     |████████████████████▎           | 51kB 1.9MB/s eta 0:00:01\r\u001b[K     |████████████████████████▍       | 61kB 2.2MB/s eta 0:00:01\r\u001b[K     |████████████████████████████▍   | 71kB 2.4MB/s eta 0:00:01\r\u001b[K     |████████████████████████████████| 81kB 2.1MB/s \n",
            "\u001b[?25hRequirement already satisfied: scipy>=1.0.0 in /usr/local/lib/python3.6/dist-packages (from category_encoders) (1.4.1)\n",
            "Requirement already satisfied: pandas>=0.21.1 in /usr/local/lib/python3.6/dist-packages (from category_encoders) (1.0.5)\n",
            "Requirement already satisfied: statsmodels>=0.9.0 in /usr/local/lib/python3.6/dist-packages (from category_encoders) (0.10.2)\n",
            "Requirement already satisfied: scikit-learn>=0.20.0 in /usr/local/lib/python3.6/dist-packages (from category_encoders) (0.22.2.post1)\n",
            "Requirement already satisfied: patsy>=0.5.1 in /usr/local/lib/python3.6/dist-packages (from category_encoders) (0.5.1)\n",
            "Requirement already satisfied: numpy>=1.14.0 in /usr/local/lib/python3.6/dist-packages (from category_encoders) (1.18.5)\n",
            "Requirement already satisfied: pytz>=2017.2 in /usr/local/lib/python3.6/dist-packages (from pandas>=0.21.1->category_encoders) (2018.9)\n",
            "Requirement already satisfied: python-dateutil>=2.6.1 in /usr/local/lib/python3.6/dist-packages (from pandas>=0.21.1->category_encoders) (2.8.1)\n",
            "Requirement already satisfied: joblib>=0.11 in /usr/local/lib/python3.6/dist-packages (from scikit-learn>=0.20.0->category_encoders) (0.16.0)\n",
            "Requirement already satisfied: six in /usr/local/lib/python3.6/dist-packages (from patsy>=0.5.1->category_encoders) (1.15.0)\n",
            "Installing collected packages: category-encoders\n",
            "Successfully installed category-encoders-2.2.2\n"
          ],
          "name": "stdout"
        },
        {
          "output_type": "stream",
          "text": [
            "/usr/local/lib/python3.6/dist-packages/statsmodels/tools/_testing.py:19: FutureWarning: pandas.util.testing is deprecated. Use the functions in the public API at pandas.testing instead.\n",
            "  import pandas.util.testing as tm\n"
          ],
          "name": "stderr"
        }
      ]
    },
    {
      "cell_type": "code",
      "metadata": {
        "id": "jgmT0b2y3Tdm",
        "colab_type": "code",
        "colab": {}
      },
      "source": [
        "df_audiencia_test_ord = enc.transform(df_audiencia_test)"
      ],
      "execution_count": 16,
      "outputs": []
    },
    {
      "cell_type": "code",
      "metadata": {
        "id": "VtyYHyv63S_r",
        "colab_type": "code",
        "colab": {
          "base_uri": "https://localhost:8080/",
          "height": 224
        },
        "outputId": "1e29ddb6-a23e-446f-e211-4c14afe692b9"
      },
      "source": [
        "df_audiencia_test_ord.head()"
      ],
      "execution_count": 17,
      "outputs": [
        {
          "output_type": "execute_result",
          "data": {
            "text/html": [
              "<div>\n",
              "<style scoped>\n",
              "    .dataframe tbody tr th:only-of-type {\n",
              "        vertical-align: middle;\n",
              "    }\n",
              "\n",
              "    .dataframe tbody tr th {\n",
              "        vertical-align: top;\n",
              "    }\n",
              "\n",
              "    .dataframe thead th {\n",
              "        text-align: right;\n",
              "    }\n",
              "</style>\n",
              "<table border=\"1\" class=\"dataframe\">\n",
              "  <thead>\n",
              "    <tr style=\"text-align: right;\">\n",
              "      <th></th>\n",
              "      <th>uf_municipio</th>\n",
              "      <th>nome_municipio</th>\n",
              "      <th>populacao_estimada2019_municipio</th>\n",
              "      <th>tipo_audiencia</th>\n",
              "      <th>vara_trabalho</th>\n",
              "      <th>classe_processual</th>\n",
              "      <th>juiz</th>\n",
              "      <th>marcacao_automatica</th>\n",
              "      <th>sala_audiencia</th>\n",
              "      <th>apos_reforma_trabalhista</th>\n",
              "      <th>valor_causa</th>\n",
              "      <th>segredo_justica</th>\n",
              "      <th>justica_gratuita</th>\n",
              "      <th>tutela_liminar</th>\n",
              "      <th>prioridade</th>\n",
              "      <th>atividade_economica</th>\n",
              "      <th>assunto</th>\n",
              "      <th>autor</th>\n",
              "      <th>reu</th>\n",
              "      <th>duracao_audiencia</th>\n",
              "    </tr>\n",
              "  </thead>\n",
              "  <tbody>\n",
              "    <tr>\n",
              "      <th>206151</th>\n",
              "      <td>1</td>\n",
              "      <td>13.0</td>\n",
              "      <td>154936</td>\n",
              "      <td>1</td>\n",
              "      <td>56.0</td>\n",
              "      <td>1</td>\n",
              "      <td>70.0</td>\n",
              "      <td>1</td>\n",
              "      <td>72.0</td>\n",
              "      <td>2</td>\n",
              "      <td>41255.12</td>\n",
              "      <td>1</td>\n",
              "      <td>1</td>\n",
              "      <td>1</td>\n",
              "      <td>1</td>\n",
              "      <td>22</td>\n",
              "      <td>16.0</td>\n",
              "      <td>35924.0</td>\n",
              "      <td>687.0</td>\n",
              "      <td>39</td>\n",
              "    </tr>\n",
              "    <tr>\n",
              "      <th>6819</th>\n",
              "      <td>1</td>\n",
              "      <td>4.0</td>\n",
              "      <td>123027</td>\n",
              "      <td>1</td>\n",
              "      <td>5.0</td>\n",
              "      <td>1</td>\n",
              "      <td>22.0</td>\n",
              "      <td>1</td>\n",
              "      <td>5.0</td>\n",
              "      <td>2</td>\n",
              "      <td>49864.13</td>\n",
              "      <td>1</td>\n",
              "      <td>1</td>\n",
              "      <td>1</td>\n",
              "      <td>1</td>\n",
              "      <td>9</td>\n",
              "      <td>15.0</td>\n",
              "      <td>-1.0</td>\n",
              "      <td>7950.0</td>\n",
              "      <td>23</td>\n",
              "    </tr>\n",
              "    <tr>\n",
              "      <th>57964</th>\n",
              "      <td>1</td>\n",
              "      <td>1.0</td>\n",
              "      <td>1933105</td>\n",
              "      <td>2</td>\n",
              "      <td>44.0</td>\n",
              "      <td>1</td>\n",
              "      <td>53.0</td>\n",
              "      <td>1</td>\n",
              "      <td>53.0</td>\n",
              "      <td>1</td>\n",
              "      <td>40000.00</td>\n",
              "      <td>1</td>\n",
              "      <td>1</td>\n",
              "      <td>1</td>\n",
              "      <td>1</td>\n",
              "      <td>18</td>\n",
              "      <td>43.0</td>\n",
              "      <td>-1.0</td>\n",
              "      <td>52.0</td>\n",
              "      <td>2</td>\n",
              "    </tr>\n",
              "    <tr>\n",
              "      <th>59422</th>\n",
              "      <td>1</td>\n",
              "      <td>1.0</td>\n",
              "      <td>1933105</td>\n",
              "      <td>2</td>\n",
              "      <td>44.0</td>\n",
              "      <td>1</td>\n",
              "      <td>53.0</td>\n",
              "      <td>1</td>\n",
              "      <td>53.0</td>\n",
              "      <td>1</td>\n",
              "      <td>40000.00</td>\n",
              "      <td>1</td>\n",
              "      <td>1</td>\n",
              "      <td>1</td>\n",
              "      <td>1</td>\n",
              "      <td>18</td>\n",
              "      <td>1.0</td>\n",
              "      <td>-1.0</td>\n",
              "      <td>2501.0</td>\n",
              "      <td>2</td>\n",
              "    </tr>\n",
              "    <tr>\n",
              "      <th>221225</th>\n",
              "      <td>1</td>\n",
              "      <td>18.0</td>\n",
              "      <td>351736</td>\n",
              "      <td>1</td>\n",
              "      <td>29.0</td>\n",
              "      <td>1</td>\n",
              "      <td>36.0</td>\n",
              "      <td>1</td>\n",
              "      <td>35.0</td>\n",
              "      <td>2</td>\n",
              "      <td>71253.85</td>\n",
              "      <td>1</td>\n",
              "      <td>2</td>\n",
              "      <td>1</td>\n",
              "      <td>1</td>\n",
              "      <td>10</td>\n",
              "      <td>1.0</td>\n",
              "      <td>7458.0</td>\n",
              "      <td>2815.0</td>\n",
              "      <td>13</td>\n",
              "    </tr>\n",
              "  </tbody>\n",
              "</table>\n",
              "</div>"
            ],
            "text/plain": [
              "        uf_municipio  nome_municipio  ...     reu  duracao_audiencia\n",
              "206151             1            13.0  ...   687.0                 39\n",
              "6819               1             4.0  ...  7950.0                 23\n",
              "57964              1             1.0  ...    52.0                  2\n",
              "59422              1             1.0  ...  2501.0                  2\n",
              "221225             1            18.0  ...  2815.0                 13\n",
              "\n",
              "[5 rows x 20 columns]"
            ]
          },
          "metadata": {
            "tags": []
          },
          "execution_count": 17
        }
      ]
    },
    {
      "cell_type": "code",
      "metadata": {
        "id": "OCU7GYF-6zJo",
        "colab_type": "code",
        "colab": {
          "base_uri": "https://localhost:8080/",
          "height": 136
        },
        "outputId": "9a000f7d-2d05-4b64-8749-419b5d5fde0c"
      },
      "source": [
        "X_train_ord = df_audiencia_train_ord.drop(\"duracao_audiencia\", axis=1)\n",
        "X_test_ord = df_audiencia_test_ord.drop(\"duracao_audiencia\", axis=1)\n",
        "\n",
        "y_train_ord = df_audiencia_train_ord[\"duracao_audiencia\"]\n",
        "y_test_ord = df_audiencia_test_ord[\"duracao_audiencia\"]\n",
        "\n",
        "mdl = RandomForestRegressor(n_jobs=6, n_estimators=100, random_state=22)\n",
        "mdl.fit(X_train_ord, y_train_ord)"
      ],
      "execution_count": 18,
      "outputs": [
        {
          "output_type": "execute_result",
          "data": {
            "text/plain": [
              "RandomForestRegressor(bootstrap=True, ccp_alpha=0.0, criterion='mse',\n",
              "                      max_depth=None, max_features='auto', max_leaf_nodes=None,\n",
              "                      max_samples=None, min_impurity_decrease=0.0,\n",
              "                      min_impurity_split=None, min_samples_leaf=1,\n",
              "                      min_samples_split=2, min_weight_fraction_leaf=0.0,\n",
              "                      n_estimators=100, n_jobs=6, oob_score=False,\n",
              "                      random_state=22, verbose=0, warm_start=False)"
            ]
          },
          "metadata": {
            "tags": []
          },
          "execution_count": 18
        }
      ]
    },
    {
      "cell_type": "code",
      "metadata": {
        "id": "_7vk4dQI7ZH9",
        "colab_type": "code",
        "colab": {}
      },
      "source": [
        "predito = mdl.predict(X_test_ord)"
      ],
      "execution_count": 19,
      "outputs": []
    },
    {
      "cell_type": "code",
      "metadata": {
        "id": "xRRxLq6pyg7G",
        "colab_type": "code",
        "colab": {
          "base_uri": "https://localhost:8080/",
          "height": 34
        },
        "outputId": "b913c6fe-67f1-4f53-e219-14933d47f3f8"
      },
      "source": [
        "mean_absolute_error(y_test_ord, predito)"
      ],
      "execution_count": 20,
      "outputs": [
        {
          "output_type": "execute_result",
          "data": {
            "text/plain": [
              "7.575519007175916"
            ]
          },
          "metadata": {
            "tags": []
          },
          "execution_count": 20
        }
      ]
    },
    {
      "cell_type": "code",
      "metadata": {
        "id": "5Yle83879Nf9",
        "colab_type": "code",
        "colab": {
          "base_uri": "https://localhost:8080/",
          "height": 34
        },
        "outputId": "c0f146f2-db92-4bc0-b3c7-3dd6dc05e189"
      },
      "source": [
        "predito[:5]"
      ],
      "execution_count": 21,
      "outputs": [
        {
          "output_type": "execute_result",
          "data": {
            "text/plain": [
              "array([23.40666667, 25.07333333,  3.18      ,  2.97666667, 23.49666667])"
            ]
          },
          "metadata": {
            "tags": []
          },
          "execution_count": 21
        }
      ]
    },
    {
      "cell_type": "code",
      "metadata": {
        "id": "3C0Abruf9U4k",
        "colab_type": "code",
        "colab": {
          "base_uri": "https://localhost:8080/",
          "height": 119
        },
        "outputId": "9396815f-5e40-410b-8156-9e51ad93c95e"
      },
      "source": [
        "y_test_ord[:5]"
      ],
      "execution_count": 22,
      "outputs": [
        {
          "output_type": "execute_result",
          "data": {
            "text/plain": [
              "206151    39\n",
              "6819      23\n",
              "57964      2\n",
              "59422      2\n",
              "221225    13\n",
              "Name: duracao_audiencia, dtype: int64"
            ]
          },
          "metadata": {
            "tags": []
          },
          "execution_count": 22
        }
      ]
    },
    {
      "cell_type": "code",
      "metadata": {
        "id": "tMWIc1r79qTo",
        "colab_type": "code",
        "colab": {
          "base_uri": "https://localhost:8080/",
          "height": 136
        },
        "outputId": "ba6c2518-d8d0-41c0-a55a-9efbc3908e4d"
      },
      "source": [
        "mdl = RandomForestRegressor(n_jobs=6, n_estimators=100, random_state=22, min_samples_leaf=200)\n",
        "mdl.fit(X_train_ord, y_train_ord)"
      ],
      "execution_count": 23,
      "outputs": [
        {
          "output_type": "execute_result",
          "data": {
            "text/plain": [
              "RandomForestRegressor(bootstrap=True, ccp_alpha=0.0, criterion='mse',\n",
              "                      max_depth=None, max_features='auto', max_leaf_nodes=None,\n",
              "                      max_samples=None, min_impurity_decrease=0.0,\n",
              "                      min_impurity_split=None, min_samples_leaf=200,\n",
              "                      min_samples_split=2, min_weight_fraction_leaf=0.0,\n",
              "                      n_estimators=100, n_jobs=6, oob_score=False,\n",
              "                      random_state=22, verbose=0, warm_start=False)"
            ]
          },
          "metadata": {
            "tags": []
          },
          "execution_count": 23
        }
      ]
    },
    {
      "cell_type": "code",
      "metadata": {
        "id": "elGSAjGD9qj-",
        "colab_type": "code",
        "colab": {
          "base_uri": "https://localhost:8080/",
          "height": 34
        },
        "outputId": "a7037a34-9a72-4675-de1d-baa3bad561e0"
      },
      "source": [
        "predito = mdl.predict(X_test_ord)\n",
        "mean_absolute_error(y_test_ord, predito)"
      ],
      "execution_count": 24,
      "outputs": [
        {
          "output_type": "execute_result",
          "data": {
            "text/plain": [
              "7.186305981151011"
            ]
          },
          "metadata": {
            "tags": []
          },
          "execution_count": 24
        }
      ]
    },
    {
      "cell_type": "code",
      "metadata": {
        "id": "YoiWbSHm9qE1",
        "colab_type": "code",
        "colab": {
          "base_uri": "https://localhost:8080/",
          "height": 34
        },
        "outputId": "0d31bd52-751b-43dc-ef40-99f01f8f368a"
      },
      "source": [
        "predito[:5]"
      ],
      "execution_count": 25,
      "outputs": [
        {
          "output_type": "execute_result",
          "data": {
            "text/plain": [
              "array([20.71219021, 17.96288894,  2.30323902,  2.73263271, 20.63104595])"
            ]
          },
          "metadata": {
            "tags": []
          },
          "execution_count": 25
        }
      ]
    },
    {
      "cell_type": "code",
      "metadata": {
        "id": "cWv1tg1F-fQZ",
        "colab_type": "code",
        "colab": {
          "base_uri": "https://localhost:8080/",
          "height": 119
        },
        "outputId": "8136280e-9b75-4e4e-e8bc-2c78e49d074a"
      },
      "source": [
        "y_test_ord[:5]"
      ],
      "execution_count": null,
      "outputs": [
        {
          "output_type": "execute_result",
          "data": {
            "text/plain": [
              "111234    30\n",
              "192521    20\n",
              "20749      8\n",
              "123050     4\n",
              "129014    42\n",
              "Name: duracao_audiencia, dtype: int64"
            ]
          },
          "metadata": {
            "tags": []
          },
          "execution_count": 55
        }
      ]
    },
    {
      "cell_type": "code",
      "metadata": {
        "id": "lc4BrjDRA2zQ",
        "colab_type": "code",
        "colab": {
          "base_uri": "https://localhost:8080/",
          "height": 323
        },
        "outputId": "ef5103a9-3cb8-46f5-9d8d-90ddf9332c7c"
      },
      "source": [
        "# tuning hiperparametros\n",
        "from sklearn.model_selection import RandomizedSearchCV\n",
        "mdl.get_params()"
      ],
      "execution_count": 26,
      "outputs": [
        {
          "output_type": "execute_result",
          "data": {
            "text/plain": [
              "{'bootstrap': True,\n",
              " 'ccp_alpha': 0.0,\n",
              " 'criterion': 'mse',\n",
              " 'max_depth': None,\n",
              " 'max_features': 'auto',\n",
              " 'max_leaf_nodes': None,\n",
              " 'max_samples': None,\n",
              " 'min_impurity_decrease': 0.0,\n",
              " 'min_impurity_split': None,\n",
              " 'min_samples_leaf': 200,\n",
              " 'min_samples_split': 2,\n",
              " 'min_weight_fraction_leaf': 0.0,\n",
              " 'n_estimators': 100,\n",
              " 'n_jobs': 6,\n",
              " 'oob_score': False,\n",
              " 'random_state': 22,\n",
              " 'verbose': 0,\n",
              " 'warm_start': False}"
            ]
          },
          "metadata": {
            "tags": []
          },
          "execution_count": 26
        }
      ]
    },
    {
      "cell_type": "code",
      "metadata": {
        "id": "RUk198LpBDMN",
        "colab_type": "code",
        "colab": {
          "base_uri": "https://localhost:8080/",
          "height": 119
        },
        "outputId": "b6b8273f-3c13-4e24-9871-7b3e76c30210"
      },
      "source": [
        "# Number of trees in random forest\n",
        "n_estimators = [int(x) for x in np.linspace(start = 200, stop = 2000, num = 5)]\n",
        "# Number of features to consider at every split\n",
        "max_features = ['auto', 'sqrt']\n",
        "# Maximum number of levels in tree\n",
        "max_depth = [int(x) for x in np.linspace(10, 110, num = 6)]\n",
        "max_depth.append(None)\n",
        "# Minimum number of samples required to split a node\n",
        "min_samples_split = [2, 5, 10]\n",
        "# Minimum number of samples required at each leaf node\n",
        "min_samples_leaf = [1, 2, 4]\n",
        "# Method of selecting samples for training each tree\n",
        "bootstrap = [True, False]\n",
        "# Create the random grid\n",
        "random_grid = {'n_estimators': n_estimators,\n",
        "               'max_features': max_features,\n",
        "               'max_depth': max_depth,\n",
        "               'min_samples_split': min_samples_split,\n",
        "               'min_samples_leaf': min_samples_leaf,\n",
        "               'bootstrap': bootstrap}\n",
        "random_grid\n"
      ],
      "execution_count": 27,
      "outputs": [
        {
          "output_type": "execute_result",
          "data": {
            "text/plain": [
              "{'bootstrap': [True, False],\n",
              " 'max_depth': [10, 30, 50, 70, 90, 110, None],\n",
              " 'max_features': ['auto', 'sqrt'],\n",
              " 'min_samples_leaf': [1, 2, 4],\n",
              " 'min_samples_split': [2, 5, 10],\n",
              " 'n_estimators': [200, 650, 1100, 1550, 2000]}"
            ]
          },
          "metadata": {
            "tags": []
          },
          "execution_count": 27
        }
      ]
    },
    {
      "cell_type": "code",
      "metadata": {
        "id": "MFmDg9UJFty0",
        "colab_type": "code",
        "colab": {
          "base_uri": "https://localhost:8080/",
          "height": 884
        },
        "outputId": "c25cd3dc-dd0d-4278-c33b-65aac4365e9c"
      },
      "source": [
        "# Use the random grid to search for best hyperparameters\n",
        "# First create the base model to tune\n",
        "rf = RandomForestRegressor()\n",
        "# Random search of parameters, using 3 fold cross validation, \n",
        "# search across 100 different combinations, and use all available cores\n",
        "rf_random = RandomizedSearchCV(estimator = rf, param_distributions = random_grid, n_iter = 5, cv = 2, verbose=2, random_state=22, n_jobs = 1)\n",
        "# Fit the random search model\n",
        "rf_random.fit(X_train_ord, y_train_ord)"
      ],
      "execution_count": 28,
      "outputs": [
        {
          "output_type": "stream",
          "text": [
            "Fitting 2 folds for each of 5 candidates, totalling 10 fits\n",
            "[CV] n_estimators=200, min_samples_split=2, min_samples_leaf=4, max_features=sqrt, max_depth=50, bootstrap=False \n"
          ],
          "name": "stdout"
        },
        {
          "output_type": "stream",
          "text": [
            "[Parallel(n_jobs=1)]: Using backend SequentialBackend with 1 concurrent workers.\n"
          ],
          "name": "stderr"
        },
        {
          "output_type": "stream",
          "text": [
            "[CV]  n_estimators=200, min_samples_split=2, min_samples_leaf=4, max_features=sqrt, max_depth=50, bootstrap=False, total=  52.6s\n",
            "[CV] n_estimators=200, min_samples_split=2, min_samples_leaf=4, max_features=sqrt, max_depth=50, bootstrap=False \n"
          ],
          "name": "stdout"
        },
        {
          "output_type": "stream",
          "text": [
            "[Parallel(n_jobs=1)]: Done   1 out of   1 | elapsed:   52.6s remaining:    0.0s\n"
          ],
          "name": "stderr"
        },
        {
          "output_type": "stream",
          "text": [
            "[CV]  n_estimators=200, min_samples_split=2, min_samples_leaf=4, max_features=sqrt, max_depth=50, bootstrap=False, total=  52.5s\n",
            "[CV] n_estimators=1100, min_samples_split=10, min_samples_leaf=4, max_features=auto, max_depth=30, bootstrap=True \n",
            "[CV]  n_estimators=1100, min_samples_split=10, min_samples_leaf=4, max_features=auto, max_depth=30, bootstrap=True, total=12.1min\n",
            "[CV] n_estimators=1100, min_samples_split=10, min_samples_leaf=4, max_features=auto, max_depth=30, bootstrap=True \n",
            "[CV]  n_estimators=1100, min_samples_split=10, min_samples_leaf=4, max_features=auto, max_depth=30, bootstrap=True, total=12.2min\n",
            "[CV] n_estimators=1100, min_samples_split=2, min_samples_leaf=1, max_features=auto, max_depth=50, bootstrap=False \n",
            "[CV]  n_estimators=1100, min_samples_split=2, min_samples_leaf=1, max_features=auto, max_depth=50, bootstrap=False, total=23.6min\n",
            "[CV] n_estimators=1100, min_samples_split=2, min_samples_leaf=1, max_features=auto, max_depth=50, bootstrap=False \n",
            "[CV]  n_estimators=1100, min_samples_split=2, min_samples_leaf=1, max_features=auto, max_depth=50, bootstrap=False, total=23.7min\n",
            "[CV] n_estimators=200, min_samples_split=2, min_samples_leaf=2, max_features=sqrt, max_depth=70, bootstrap=False \n",
            "[CV]  n_estimators=200, min_samples_split=2, min_samples_leaf=2, max_features=sqrt, max_depth=70, bootstrap=False, total= 1.0min\n",
            "[CV] n_estimators=200, min_samples_split=2, min_samples_leaf=2, max_features=sqrt, max_depth=70, bootstrap=False \n",
            "[CV]  n_estimators=200, min_samples_split=2, min_samples_leaf=2, max_features=sqrt, max_depth=70, bootstrap=False, total=  59.8s\n",
            "[CV] n_estimators=650, min_samples_split=10, min_samples_leaf=4, max_features=sqrt, max_depth=70, bootstrap=True \n",
            "[CV]  n_estimators=650, min_samples_split=10, min_samples_leaf=4, max_features=sqrt, max_depth=70, bootstrap=True, total= 1.9min\n",
            "[CV] n_estimators=650, min_samples_split=10, min_samples_leaf=4, max_features=sqrt, max_depth=70, bootstrap=True \n",
            "[CV]  n_estimators=650, min_samples_split=10, min_samples_leaf=4, max_features=sqrt, max_depth=70, bootstrap=True, total= 1.9min\n"
          ],
          "name": "stdout"
        },
        {
          "output_type": "stream",
          "text": [
            "[Parallel(n_jobs=1)]: Done  10 out of  10 | elapsed: 79.4min finished\n"
          ],
          "name": "stderr"
        },
        {
          "output_type": "execute_result",
          "data": {
            "text/plain": [
              "RandomizedSearchCV(cv=2, error_score=nan,\n",
              "                   estimator=RandomForestRegressor(bootstrap=True,\n",
              "                                                   ccp_alpha=0.0,\n",
              "                                                   criterion='mse',\n",
              "                                                   max_depth=None,\n",
              "                                                   max_features='auto',\n",
              "                                                   max_leaf_nodes=None,\n",
              "                                                   max_samples=None,\n",
              "                                                   min_impurity_decrease=0.0,\n",
              "                                                   min_impurity_split=None,\n",
              "                                                   min_samples_leaf=1,\n",
              "                                                   min_samples_split=2,\n",
              "                                                   min_weight_fraction_leaf=0.0,\n",
              "                                                   n_estimators=100,\n",
              "                                                   n_jobs=None, oob_score=Fals...\n",
              "                                                   warm_start=False),\n",
              "                   iid='deprecated', n_iter=5, n_jobs=1,\n",
              "                   param_distributions={'bootstrap': [True, False],\n",
              "                                        'max_depth': [10, 30, 50, 70, 90, 110,\n",
              "                                                      None],\n",
              "                                        'max_features': ['auto', 'sqrt'],\n",
              "                                        'min_samples_leaf': [1, 2, 4],\n",
              "                                        'min_samples_split': [2, 5, 10],\n",
              "                                        'n_estimators': [200, 650, 1100, 1550,\n",
              "                                                         2000]},\n",
              "                   pre_dispatch='2*n_jobs', random_state=22, refit=True,\n",
              "                   return_train_score=False, scoring=None, verbose=2)"
            ]
          },
          "metadata": {
            "tags": []
          },
          "execution_count": 28
        }
      ]
    },
    {
      "cell_type": "code",
      "metadata": {
        "id": "NwJ460E3Ftfc",
        "colab_type": "code",
        "colab": {
          "base_uri": "https://localhost:8080/",
          "height": 119
        },
        "outputId": "c04e7a06-7d37-4ef2-b222-cec7f6e6799c"
      },
      "source": [
        "rf_random.best_params_"
      ],
      "execution_count": 29,
      "outputs": [
        {
          "output_type": "execute_result",
          "data": {
            "text/plain": [
              "{'bootstrap': True,\n",
              " 'max_depth': 70,\n",
              " 'max_features': 'sqrt',\n",
              " 'min_samples_leaf': 4,\n",
              " 'min_samples_split': 10,\n",
              " 'n_estimators': 650}"
            ]
          },
          "metadata": {
            "tags": []
          },
          "execution_count": 29
        }
      ]
    },
    {
      "cell_type": "code",
      "metadata": {
        "id": "nudLer5aMaH1",
        "colab_type": "code",
        "colab": {
          "base_uri": "https://localhost:8080/",
          "height": 136
        },
        "outputId": "1a61d78e-9249-4ba0-9d18-c37b318da0d8"
      },
      "source": [
        "# Setando os hiperparametros tunados\n",
        "mdlTunado = RandomForestRegressor(n_jobs=6, n_estimators=650, random_state=22, min_samples_leaf=4, min_samples_split=10, max_features='sqrt', max_depth=70 )\n",
        "mdlTunado.fit(X_train_ord, y_train_ord)"
      ],
      "execution_count": 31,
      "outputs": [
        {
          "output_type": "execute_result",
          "data": {
            "text/plain": [
              "RandomForestRegressor(bootstrap=True, ccp_alpha=0.0, criterion='mse',\n",
              "                      max_depth=70, max_features='sqrt', max_leaf_nodes=None,\n",
              "                      max_samples=None, min_impurity_decrease=0.0,\n",
              "                      min_impurity_split=None, min_samples_leaf=4,\n",
              "                      min_samples_split=10, min_weight_fraction_leaf=0.0,\n",
              "                      n_estimators=650, n_jobs=6, oob_score=False,\n",
              "                      random_state=22, verbose=0, warm_start=False)"
            ]
          },
          "metadata": {
            "tags": []
          },
          "execution_count": 31
        }
      ]
    },
    {
      "cell_type": "code",
      "metadata": {
        "id": "qY0PzdruPV7r",
        "colab_type": "code",
        "colab": {}
      },
      "source": [
        ""
      ],
      "execution_count": null,
      "outputs": []
    },
    {
      "cell_type": "code",
      "metadata": {
        "id": "76WfyWJbMZqZ",
        "colab_type": "code",
        "colab": {
          "base_uri": "https://localhost:8080/",
          "height": 34
        },
        "outputId": "95078057-4564-4d35-814f-819f3b32c63f"
      },
      "source": [
        "preditoTunado = mdlTunado.predict(X_test_ord)\n",
        "mean_absolute_error(y_test_ord, preditoTunado)"
      ],
      "execution_count": 33,
      "outputs": [
        {
          "output_type": "execute_result",
          "data": {
            "text/plain": [
              "7.169625897006572"
            ]
          },
          "metadata": {
            "tags": []
          },
          "execution_count": 33
        }
      ]
    },
    {
      "cell_type": "code",
      "metadata": {
        "id": "7KI1smAmNXef",
        "colab_type": "code",
        "colab": {
          "base_uri": "https://localhost:8080/",
          "height": 34
        },
        "outputId": "de918cdb-4667-4a7e-f43e-7af3f2190341"
      },
      "source": [
        "preditoTunado[:5]"
      ],
      "execution_count": 34,
      "outputs": [
        {
          "output_type": "execute_result",
          "data": {
            "text/plain": [
              "array([19.51159264, 18.68832985,  3.32277668,  3.26098369, 22.7417767 ])"
            ]
          },
          "metadata": {
            "tags": []
          },
          "execution_count": 34
        }
      ]
    },
    {
      "cell_type": "code",
      "metadata": {
        "id": "IyekjG7LNbwg",
        "colab_type": "code",
        "colab": {
          "base_uri": "https://localhost:8080/",
          "height": 119
        },
        "outputId": "21301640-0d06-4b10-b862-7454775cc2e5"
      },
      "source": [
        "y_test_ord[:5]"
      ],
      "execution_count": 35,
      "outputs": [
        {
          "output_type": "execute_result",
          "data": {
            "text/plain": [
              "206151    39\n",
              "6819      23\n",
              "57964      2\n",
              "59422      2\n",
              "221225    13\n",
              "Name: duracao_audiencia, dtype: int64"
            ]
          },
          "metadata": {
            "tags": []
          },
          "execution_count": 35
        }
      ]
    },
    {
      "cell_type": "code",
      "metadata": {
        "id": "UkhSwuVRQ9O1",
        "colab_type": "code",
        "colab": {}
      },
      "source": [
        "# Encoding atributos categóricos\n",
        "from category_encoders.target_encoder import TargetEncoder"
      ],
      "execution_count": 36,
      "outputs": []
    },
    {
      "cell_type": "code",
      "metadata": {
        "id": "LSXCO0pFfYyu",
        "colab_type": "code",
        "colab": {}
      },
      "source": [
        "enc = TargetEncoder(cols=colunas_categoricas, min_samples_leaf=200)\n",
        "enc.fit(df_audiencia_train, df_audiencia_train['duracao_audiencia'])\n",
        "df_audiencia_train_trg = enc.transform(df_audiencia_train)\n",
        "df_audiencia_test_trg = enc.transform(df_audiencia_test)\n"
      ],
      "execution_count": 37,
      "outputs": []
    },
    {
      "cell_type": "code",
      "metadata": {
        "id": "7E1IxrIVyLMp",
        "colab_type": "code",
        "colab": {
          "base_uri": "https://localhost:8080/",
          "height": 119
        },
        "outputId": "39121b4a-ebff-47a9-eb93-fe79d4f338f5"
      },
      "source": [
        "df_audiencia_train_trg.uf_municipio.value_counts()"
      ],
      "execution_count": 38,
      "outputs": [
        {
          "output_type": "execute_result",
          "data": {
            "text/plain": [
              "10.573850    173202\n",
              "10.601756       682\n",
              "12.125402       622\n",
              "12.826873       387\n",
              "15.584867       208\n",
              "Name: uf_municipio, dtype: int64"
            ]
          },
          "metadata": {
            "tags": []
          },
          "execution_count": 38
        }
      ]
    },
    {
      "cell_type": "code",
      "metadata": {
        "id": "1A46NtmWfZso",
        "colab_type": "code",
        "colab": {
          "base_uri": "https://localhost:8080/",
          "height": 136
        },
        "outputId": "bc0a4de2-2902-43f4-d6a6-7e7be4e85bc5"
      },
      "source": [
        "X_train_trg = df_audiencia_train_trg.drop(\"duracao_audiencia\", axis=1)\n",
        "X_test_trg = df_audiencia_test_trg.drop(\"duracao_audiencia\", axis=1)\n",
        "\n",
        "y_train_trg = df_audiencia_train_trg[\"duracao_audiencia\"]\n",
        "y_test_trg = df_audiencia_test_trg[\"duracao_audiencia\"]\n",
        "\n",
        "mdl_trg = RandomForestRegressor(n_jobs=6, n_estimators=650, random_state=22, min_samples_leaf=4, min_samples_split=10, max_features='sqrt', max_depth=70)\n",
        "mdl_trg.fit(X_train_trg, y_train_trg)"
      ],
      "execution_count": 39,
      "outputs": [
        {
          "output_type": "execute_result",
          "data": {
            "text/plain": [
              "RandomForestRegressor(bootstrap=True, ccp_alpha=0.0, criterion='mse',\n",
              "                      max_depth=70, max_features='sqrt', max_leaf_nodes=None,\n",
              "                      max_samples=None, min_impurity_decrease=0.0,\n",
              "                      min_impurity_split=None, min_samples_leaf=4,\n",
              "                      min_samples_split=10, min_weight_fraction_leaf=0.0,\n",
              "                      n_estimators=650, n_jobs=6, oob_score=False,\n",
              "                      random_state=22, verbose=0, warm_start=False)"
            ]
          },
          "metadata": {
            "tags": []
          },
          "execution_count": 39
        }
      ]
    },
    {
      "cell_type": "code",
      "metadata": {
        "id": "Nxw4hsN6faI8",
        "colab_type": "code",
        "colab": {
          "base_uri": "https://localhost:8080/",
          "height": 34
        },
        "outputId": "2c31b7fc-4661-4213-abc7-d9c3dd72f836"
      },
      "source": [
        "p_trg = mdl.predict(X_test_trg)\n",
        "mean_absolute_error(y_test_trg, p_trg)"
      ],
      "execution_count": 40,
      "outputs": [
        {
          "output_type": "execute_result",
          "data": {
            "text/plain": [
              "8.658679100927053"
            ]
          },
          "metadata": {
            "tags": []
          },
          "execution_count": 40
        }
      ]
    },
    {
      "cell_type": "code",
      "metadata": {
        "id": "5KDuhrdSfZZt",
        "colab_type": "code",
        "colab": {
          "base_uri": "https://localhost:8080/",
          "height": 34
        },
        "outputId": "8fe21be4-93da-41b3-9351-395624a9d8b1"
      },
      "source": [
        "p_trg[:5]"
      ],
      "execution_count": 41,
      "outputs": [
        {
          "output_type": "execute_result",
          "data": {
            "text/plain": [
              "array([3.62391572, 3.62391572, 3.81755377, 3.84050281, 3.62391572])"
            ]
          },
          "metadata": {
            "tags": []
          },
          "execution_count": 41
        }
      ]
    },
    {
      "cell_type": "code",
      "metadata": {
        "id": "G5YTLNkT0UXN",
        "colab_type": "code",
        "colab": {
          "base_uri": "https://localhost:8080/",
          "height": 119
        },
        "outputId": "920d3a8c-9d7e-4821-8e01-df5a9f320ac1"
      },
      "source": [
        "y_test_trg[:5]"
      ],
      "execution_count": 42,
      "outputs": [
        {
          "output_type": "execute_result",
          "data": {
            "text/plain": [
              "206151    39\n",
              "6819      23\n",
              "57964      2\n",
              "59422      2\n",
              "221225    13\n",
              "Name: duracao_audiencia, dtype: int64"
            ]
          },
          "metadata": {
            "tags": []
          },
          "execution_count": 42
        }
      ]
    },
    {
      "cell_type": "code",
      "metadata": {
        "id": "UNjqnRn1R-lC",
        "colab_type": "code",
        "colab": {
          "base_uri": "https://localhost:8080/",
          "height": 85
        },
        "outputId": "60db7edd-9854-4f5d-8c23-d428d5fb885b"
      },
      "source": [
        "mdlTunado.feature_importances_"
      ],
      "execution_count": 43,
      "outputs": [
        {
          "output_type": "execute_result",
          "data": {
            "text/plain": [
              "array([0.00105663, 0.02514018, 0.02623164, 0.4384904 , 0.04140917,\n",
              "       0.01491285, 0.04819348, 0.00447404, 0.04547821, 0.01239985,\n",
              "       0.07253317, 0.00084348, 0.00630877, 0.00342861, 0.00246069,\n",
              "       0.05030236, 0.04991529, 0.07453193, 0.08188925])"
            ]
          },
          "metadata": {
            "tags": []
          },
          "execution_count": 43
        }
      ]
    },
    {
      "cell_type": "code",
      "metadata": {
        "id": "M8y5-1pvSlDT",
        "colab_type": "code",
        "colab": {
          "base_uri": "https://localhost:8080/",
          "height": 588
        },
        "outputId": "37e29458-ade7-40ec-8769-07590d71f539"
      },
      "source": [
        "importancia = mdlTunado.feature_importances_\n",
        "# summarize feature importance\n",
        "for i,v in enumerate(importancia):\n",
        "\tprint('Feature: %0d, Score: %.5f' % (i,v))\n",
        "# plot feature importance\n",
        "pyplot.bar([x for x in range(len(importancia))], importancia)\n",
        "pyplot.show()"
      ],
      "execution_count": 44,
      "outputs": [
        {
          "output_type": "stream",
          "text": [
            "Feature: 0, Score: 0.00106\n",
            "Feature: 1, Score: 0.02514\n",
            "Feature: 2, Score: 0.02623\n",
            "Feature: 3, Score: 0.43849\n",
            "Feature: 4, Score: 0.04141\n",
            "Feature: 5, Score: 0.01491\n",
            "Feature: 6, Score: 0.04819\n",
            "Feature: 7, Score: 0.00447\n",
            "Feature: 8, Score: 0.04548\n",
            "Feature: 9, Score: 0.01240\n",
            "Feature: 10, Score: 0.07253\n",
            "Feature: 11, Score: 0.00084\n",
            "Feature: 12, Score: 0.00631\n",
            "Feature: 13, Score: 0.00343\n",
            "Feature: 14, Score: 0.00246\n",
            "Feature: 15, Score: 0.05030\n",
            "Feature: 16, Score: 0.04992\n",
            "Feature: 17, Score: 0.07453\n",
            "Feature: 18, Score: 0.08189\n"
          ],
          "name": "stdout"
        },
        {
          "output_type": "display_data",
          "data": {
            "image/png": "[encoded data removed]",
            "text/plain": [
              "<Figure size 432x288 with 1 Axes>"
            ]
          },
          "metadata": {
            "tags": []
          }
        }
      ]
    },
    {
      "cell_type": "code",
      "metadata": {
        "id": "UoXs623KTXnJ",
        "colab_type": "code",
        "colab": {}
      },
      "source": [
        "feature_importances = pd.DataFrame(mdlTunado.feature_importances_,\n",
        "                                   index = X_train_trg.columns,\n",
        "                                   columns=['importancia']).sort_values('importancia', ascending=False)"
      ],
      "execution_count": 45,
      "outputs": []
    },
    {
      "cell_type": "code",
      "metadata": {
        "id": "AFudPfeDTuom",
        "colab_type": "code",
        "colab": {
          "base_uri": "https://localhost:8080/",
          "height": 638
        },
        "outputId": "a1405beb-a101-4ae6-ccc5-35502f31b06b"
      },
      "source": [
        "feature_importances"
      ],
      "execution_count": 46,
      "outputs": [
        {
          "output_type": "execute_result",
          "data": {
            "text/html": [
              "<div>\n",
              "<style scoped>\n",
              "    .dataframe tbody tr th:only-of-type {\n",
              "        vertical-align: middle;\n",
              "    }\n",
              "\n",
              "    .dataframe tbody tr th {\n",
              "        vertical-align: top;\n",
              "    }\n",
              "\n",
              "    .dataframe thead th {\n",
              "        text-align: right;\n",
              "    }\n",
              "</style>\n",
              "<table border=\"1\" class=\"dataframe\">\n",
              "  <thead>\n",
              "    <tr style=\"text-align: right;\">\n",
              "      <th></th>\n",
              "      <th>importancia</th>\n",
              "    </tr>\n",
              "  </thead>\n",
              "  <tbody>\n",
              "    <tr>\n",
              "      <th>tipo_audiencia</th>\n",
              "      <td>0.438490</td>\n",
              "    </tr>\n",
              "    <tr>\n",
              "      <th>reu</th>\n",
              "      <td>0.081889</td>\n",
              "    </tr>\n",
              "    <tr>\n",
              "      <th>autor</th>\n",
              "      <td>0.074532</td>\n",
              "    </tr>\n",
              "    <tr>\n",
              "      <th>valor_causa</th>\n",
              "      <td>0.072533</td>\n",
              "    </tr>\n",
              "    <tr>\n",
              "      <th>atividade_economica</th>\n",
              "      <td>0.050302</td>\n",
              "    </tr>\n",
              "    <tr>\n",
              "      <th>assunto</th>\n",
              "      <td>0.049915</td>\n",
              "    </tr>\n",
              "    <tr>\n",
              "      <th>juiz</th>\n",
              "      <td>0.048193</td>\n",
              "    </tr>\n",
              "    <tr>\n",
              "      <th>sala_audiencia</th>\n",
              "      <td>0.045478</td>\n",
              "    </tr>\n",
              "    <tr>\n",
              "      <th>vara_trabalho</th>\n",
              "      <td>0.041409</td>\n",
              "    </tr>\n",
              "    <tr>\n",
              "      <th>populacao_estimada2019_municipio</th>\n",
              "      <td>0.026232</td>\n",
              "    </tr>\n",
              "    <tr>\n",
              "      <th>nome_municipio</th>\n",
              "      <td>0.025140</td>\n",
              "    </tr>\n",
              "    <tr>\n",
              "      <th>classe_processual</th>\n",
              "      <td>0.014913</td>\n",
              "    </tr>\n",
              "    <tr>\n",
              "      <th>apos_reforma_trabalhista</th>\n",
              "      <td>0.012400</td>\n",
              "    </tr>\n",
              "    <tr>\n",
              "      <th>justica_gratuita</th>\n",
              "      <td>0.006309</td>\n",
              "    </tr>\n",
              "    <tr>\n",
              "      <th>marcacao_automatica</th>\n",
              "      <td>0.004474</td>\n",
              "    </tr>\n",
              "    <tr>\n",
              "      <th>tutela_liminar</th>\n",
              "      <td>0.003429</td>\n",
              "    </tr>\n",
              "    <tr>\n",
              "      <th>prioridade</th>\n",
              "      <td>0.002461</td>\n",
              "    </tr>\n",
              "    <tr>\n",
              "      <th>uf_municipio</th>\n",
              "      <td>0.001057</td>\n",
              "    </tr>\n",
              "    <tr>\n",
              "      <th>segredo_justica</th>\n",
              "      <td>0.000843</td>\n",
              "    </tr>\n",
              "  </tbody>\n",
              "</table>\n",
              "</div>"
            ],
            "text/plain": [
              "                                  importancia\n",
              "tipo_audiencia                       0.438490\n",
              "reu                                  0.081889\n",
              "autor                                0.074532\n",
              "valor_causa                          0.072533\n",
              "atividade_economica                  0.050302\n",
              "assunto                              0.049915\n",
              "juiz                                 0.048193\n",
              "sala_audiencia                       0.045478\n",
              "vara_trabalho                        0.041409\n",
              "populacao_estimada2019_municipio     0.026232\n",
              "nome_municipio                       0.025140\n",
              "classe_processual                    0.014913\n",
              "apos_reforma_trabalhista             0.012400\n",
              "justica_gratuita                     0.006309\n",
              "marcacao_automatica                  0.004474\n",
              "tutela_liminar                       0.003429\n",
              "prioridade                           0.002461\n",
              "uf_municipio                         0.001057\n",
              "segredo_justica                      0.000843"
            ]
          },
          "metadata": {
            "tags": []
          },
          "execution_count": 46
        }
      ]
    },
    {
      "cell_type": "code",
      "metadata": {
        "id": "E2fyQubfTvXN",
        "colab_type": "code",
        "colab": {
          "base_uri": "https://localhost:8080/",
          "height": 454
        },
        "outputId": "06c0c2c2-64e0-4bee-ef69-326078836478"
      },
      "source": [
        "feature_importances.plot(kind='bar')"
      ],
      "execution_count": 48,
      "outputs": [
        {
          "output_type": "execute_result",
          "data": {
            "text/plain": [
              "<matplotlib.axes._subplots.AxesSubplot at 0x7f89c2501be0>"
            ]
          },
          "metadata": {
            "tags": []
          },
          "execution_count": 48
        },
        {
          "output_type": "display_data",
          "data": {
            "image/png": "[encoded data removed]",
            "text/plain": [
              "<Figure size 432x288 with 1 Axes>"
            ]
          },
          "metadata": {
            "tags": []
          }
        }
      ]
    },
    {
      "cell_type": "code",
      "metadata": {
        "id": "VxHOqBNWnL0r",
        "colab_type": "code",
        "colab": {}
      },
      "source": [
        "# Eliminado colunas com pouca importância, uma a uma na ordem inversa de importância. Determinando qual é a melhor.\n",
        "colunas_eliminar=['reu','autor','valor_causa','atividade_economica','assunto', 'juiz', 'sala_audiencia', 'vara_trabalho', \n",
        "                  'populacao_estimada2019_municipio', 'nome_municipio', 'classe_processual', 'apos_reforma_trabalhista', \n",
        "                  'segredo_justica','uf_municipio','prioridade','tutela_liminar','marcacao_automatica','justica_gratuita']\n"
      ],
      "execution_count": 64,
      "outputs": []
    },
    {
      "cell_type": "code",
      "metadata": {
        "id": "BQoqiLpGojTZ",
        "colab_type": "code",
        "colab": {
          "base_uri": "https://localhost:8080/",
          "height": 323
        },
        "outputId": "6ba83f17-a556-43ba-9e24-8a572dfd8822"
      },
      "source": [
        "X_train_ord2=X_train_ord.copy()\n",
        "X_test_ord2=X_test_ord.copy()\n",
        "\n",
        "for coluna in reversed(colunas_eliminar):\n",
        "  X_train_ord2=X_train_ord2.drop(columns=coluna, axis=1)\n",
        "  X_test_ord2=X_test_ord2.drop(columns=coluna, axis=1)\n",
        "  mdlTunado2 = RandomForestRegressor(n_jobs=6, n_estimators=650, random_state=22, min_samples_leaf=4, min_samples_split=10, max_features='sqrt', max_depth=70 )\n",
        "  mdlTunado2.fit(X_train_ord2, y_train_ord)\n",
        "  preditoTunado2 = mdlTunado2.predict(X_test_ord2)\n",
        "  mae=mean_absolute_error(y_test_ord, preditoTunado2)\n",
        "  print(\"Coluna Eliminada: {} - MAE = {}\".format(coluna,mae))\n",
        "  "
      ],
      "execution_count": 66,
      "outputs": [
        {
          "output_type": "stream",
          "text": [
            "Coluna Eliminada: justica_gratuita - MAE = 7.171722174824094\n",
            "Coluna Eliminada: marcacao_automatica - MAE = 7.177781344017157\n",
            "Coluna Eliminada: tutela_liminar - MAE = 7.167213760992077\n",
            "Coluna Eliminada: prioridade - MAE = 7.209926282314803\n",
            "Coluna Eliminada: uf_municipio - MAE = 7.198579671777153\n",
            "Coluna Eliminada: segredo_justica - MAE = 7.1852208279657015\n",
            "Coluna Eliminada: apos_reforma_trabalhista - MAE = 7.16534593195975\n",
            "Coluna Eliminada: classe_processual - MAE = 7.204032138118465\n",
            "Coluna Eliminada: nome_municipio - MAE = 7.203338744214399\n",
            "Coluna Eliminada: populacao_estimada2019_municipio - MAE = 7.214975124249408\n",
            "Coluna Eliminada: vara_trabalho - MAE = 7.281340991465531\n",
            "Coluna Eliminada: sala_audiencia - MAE = 7.273126372888983\n",
            "Coluna Eliminada: juiz - MAE = 7.302571581520042\n",
            "Coluna Eliminada: assunto - MAE = 7.307172551307031\n",
            "Coluna Eliminada: atividade_economica - MAE = 7.3151596160841175\n",
            "Coluna Eliminada: valor_causa - MAE = 7.429997873191814\n",
            "Coluna Eliminada: autor - MAE = 7.336707102579263\n",
            "Coluna Eliminada: reu - MAE = 7.488966895224727\n"
          ],
          "name": "stdout"
        }
      ]
    },
    {
      "cell_type": "code",
      "metadata": {
        "id": "lVto81Um_E72",
        "colab_type": "code",
        "colab": {
          "base_uri": "https://localhost:8080/",
          "height": 34
        },
        "outputId": "ba204ed5-e9c0-4d36-b566-b16bf4587119"
      },
      "source": [
        "# Eliminando as 3 piores colunas apresentou um resultado melhor. Refazendo\n",
        "colunas_eliminar=['tutela_liminar','marcacao_automatica','justica_gratuita']\n",
        "X_train_ord2=X_train_ord.drop(columns=colunas_eliminar)\n",
        "X_test_ord2=X_test_ord.drop(columns=colunas_eliminar)\n",
        "\n",
        "mdlTunado2 = RandomForestRegressor(n_jobs=6, n_estimators=650, random_state=22, min_samples_leaf=4, min_samples_split=10, max_features='sqrt', max_depth=70 )\n",
        "mdlTunado2.fit(X_train_ord2, y_train_ord)\n",
        "preditoTunado2 = mdlTunado2.predict(X_test_ord2)\n",
        "mae=mean_absolute_error(y_test_ord, preditoTunado2)\n",
        "print(\"Coluna Eliminada: {} - MAE = {}\".format(coluna,mae))\n",
        "\n"
      ],
      "execution_count": 67,
      "outputs": [
        {
          "output_type": "stream",
          "text": [
            "Coluna Eliminada: reu - MAE = 7.167213760992077\n"
          ],
          "name": "stdout"
        }
      ]
    },
    {
      "cell_type": "code",
      "metadata": {
        "id": "rA1qpZlN_qiG",
        "colab_type": "code",
        "colab": {
          "base_uri": "https://localhost:8080/",
          "height": 51
        },
        "outputId": "785e319d-6b30-4f78-9240-6bb6e5181aa6"
      },
      "source": [
        "preditoTunado2[:10]\n"
      ],
      "execution_count": 68,
      "outputs": [
        {
          "output_type": "execute_result",
          "data": {
            "text/plain": [
              "array([20.66678467, 18.16894956,  3.19928842,  3.43959183, 22.81269227,\n",
              "       17.47204529, 23.7825233 , 13.54028887,  4.75277108,  6.82599954])"
            ]
          },
          "metadata": {
            "tags": []
          },
          "execution_count": 68
        }
      ]
    },
    {
      "cell_type": "code",
      "metadata": {
        "id": "vrkWDxOi__-j",
        "colab_type": "code",
        "colab": {
          "base_uri": "https://localhost:8080/",
          "height": 204
        },
        "outputId": "58463866-fe1b-4af5-9069-e406aa4d1608"
      },
      "source": [
        "y_test_ord[:10]"
      ],
      "execution_count": 69,
      "outputs": [
        {
          "output_type": "execute_result",
          "data": {
            "text/plain": [
              "206151    39\n",
              "6819      23\n",
              "57964      2\n",
              "59422      2\n",
              "221225    13\n",
              "141304     6\n",
              "168500     7\n",
              "149078    35\n",
              "228219     3\n",
              "35758      5\n",
              "Name: duracao_audiencia, dtype: int64"
            ]
          },
          "metadata": {
            "tags": []
          },
          "execution_count": 69
        }
      ]
    },
    {
      "cell_type": "code",
      "metadata": {
        "id": "RjodOoNXohu9",
        "colab_type": "code",
        "colab": {
          "base_uri": "https://localhost:8080/",
          "height": 136
        },
        "outputId": "5597de5c-6ec1-4032-aa5a-ebb6cf3f3ced"
      },
      "source": [
        "mdlTunado2 = RandomForestRegressor(n_jobs=6, n_estimators=650, random_state=22, min_samples_leaf=4, min_samples_split=10, max_features='sqrt', max_depth=70 )\n",
        "mdlTunado2.fit(X_train_ord2, y_train_ord)"
      ],
      "execution_count": 58,
      "outputs": [
        {
          "output_type": "execute_result",
          "data": {
            "text/plain": [
              "RandomForestRegressor(bootstrap=True, ccp_alpha=0.0, criterion='mse',\n",
              "                      max_depth=70, max_features='sqrt', max_leaf_nodes=None,\n",
              "                      max_samples=None, min_impurity_decrease=0.0,\n",
              "                      min_impurity_split=None, min_samples_leaf=4,\n",
              "                      min_samples_split=10, min_weight_fraction_leaf=0.0,\n",
              "                      n_estimators=650, n_jobs=6, oob_score=False,\n",
              "                      random_state=22, verbose=0, warm_start=False)"
            ]
          },
          "metadata": {
            "tags": []
          },
          "execution_count": 58
        }
      ]
    },
    {
      "cell_type": "code",
      "metadata": {
        "id": "ylYz_awlolqD",
        "colab_type": "code",
        "colab": {
          "base_uri": "https://localhost:8080/",
          "height": 34
        },
        "outputId": "4c70b52a-d487-4f44-ff00-92a4cfe31864"
      },
      "source": [
        "preditoTunado2 = mdlTunado2.predict(X_test_ord2)\n",
        "mean_absolute_error(y_test_ord, preditoTunado2)"
      ],
      "execution_count": 59,
      "outputs": [
        {
          "output_type": "execute_result",
          "data": {
            "text/plain": [
              "7.162986411739751"
            ]
          },
          "metadata": {
            "tags": []
          },
          "execution_count": 59
        }
      ]
    },
    {
      "cell_type": "code",
      "metadata": {
        "id": "8rvcgHKpon9U",
        "colab_type": "code",
        "colab": {
          "base_uri": "https://localhost:8080/",
          "height": 34
        },
        "outputId": "ab2b48cb-ecf4-4ab9-9704-56fcad7f8a23"
      },
      "source": [
        "preditoTunado2[:5]"
      ],
      "execution_count": 60,
      "outputs": [
        {
          "output_type": "execute_result",
          "data": {
            "text/plain": [
              "array([19.93676739, 19.87850782,  3.31914192,  3.17495192, 21.33972914])"
            ]
          },
          "metadata": {
            "tags": []
          },
          "execution_count": 60
        }
      ]
    },
    {
      "cell_type": "code",
      "metadata": {
        "id": "gmNcTHBWooyE",
        "colab_type": "code",
        "colab": {
          "base_uri": "https://localhost:8080/",
          "height": 119
        },
        "outputId": "61ac6259-6f7b-4b8f-b02e-2fdf97db6800"
      },
      "source": [
        "y_test_ord[:5]"
      ],
      "execution_count": 61,
      "outputs": [
        {
          "output_type": "execute_result",
          "data": {
            "text/plain": [
              "206151    39\n",
              "6819      23\n",
              "57964      2\n",
              "59422      2\n",
              "221225    13\n",
              "Name: duracao_audiencia, dtype: int64"
            ]
          },
          "metadata": {
            "tags": []
          },
          "execution_count": 61
        }
      ]
    },
    {
      "cell_type": "code",
      "metadata": {
        "id": "IF5ewzDjD2Or",
        "colab_type": "code",
        "colab": {}
      },
      "source": [
        ""
      ],
      "execution_count": null,
      "outputs": []
    },
    {
      "cell_type": "code",
      "metadata": {
        "id": "LyvNvh_dD1w_",
        "colab_type": "code",
        "colab": {
          "base_uri": "https://localhost:8080/",
          "height": 170
        },
        "outputId": "02ec9592-1244-4601-b712-3130ba025a1f"
      },
      "source": [
        "# Utilizando encoding bayesiano\n",
        "!pip install hccEncoding\n",
        "#from hccEncoding.EncoderForClassification import BayesEncoding,BayesEncodingKfold,LOOEncoding,LOOEncodingKfold\n",
        "from hccEncoding.EncoderForRegression import BayesEncoding,BayesEncodingKfold,LOOEncoding,LOOEncodingKfold"
      ],
      "execution_count": 72,
      "outputs": [
        {
          "output_type": "stream",
          "text": [
            "Requirement already satisfied: hccEncoding in /usr/local/lib/python3.6/dist-packages (0.0.1)\n",
            "Requirement already satisfied: scikit-learn>=0.18.0 in /usr/local/lib/python3.6/dist-packages (from hccEncoding) (0.22.2.post1)\n",
            "Requirement already satisfied: numpy>=1.9.0 in /usr/local/lib/python3.6/dist-packages (from hccEncoding) (1.18.5)\n",
            "Requirement already satisfied: pandas>=0.19.0 in /usr/local/lib/python3.6/dist-packages (from hccEncoding) (1.0.5)\n",
            "Requirement already satisfied: scipy>=0.17.0 in /usr/local/lib/python3.6/dist-packages (from scikit-learn>=0.18.0->hccEncoding) (1.4.1)\n",
            "Requirement already satisfied: joblib>=0.11 in /usr/local/lib/python3.6/dist-packages (from scikit-learn>=0.18.0->hccEncoding) (0.16.0)\n",
            "Requirement already satisfied: pytz>=2017.2 in /usr/local/lib/python3.6/dist-packages (from pandas>=0.19.0->hccEncoding) (2018.9)\n",
            "Requirement already satisfied: python-dateutil>=2.6.1 in /usr/local/lib/python3.6/dist-packages (from pandas>=0.19.0->hccEncoding) (2.8.1)\n",
            "Requirement already satisfied: six>=1.5 in /usr/local/lib/python3.6/dist-packages (from python-dateutil>=2.6.1->pandas>=0.19.0->hccEncoding) (1.15.0)\n"
          ],
          "name": "stdout"
        }
      ]
    },
    {
      "cell_type": "code",
      "metadata": {
        "id": "MUVgfzJfGVOf",
        "colab_type": "code",
        "colab": {
          "base_uri": "https://localhost:8080/",
          "height": 306
        },
        "outputId": "15a8aacd-7651-4060-e94b-11fbbfa1c1c4"
      },
      "source": [
        "train_BayesEncoding,test_BayesEncoding=BayesEncodingKfold(X_train,X_test,'duracao_audiencia','reu')"
      ],
      "execution_count": 78,
      "outputs": [
        {
          "output_type": "error",
          "ename": "KeyError",
          "evalue": "ignored",
          "traceback": [
            "\u001b[0;31m---------------------------------------------------------------------------\u001b[0m",
            "\u001b[0;31mKeyError\u001b[0m                                  Traceback (most recent call last)",
            "\u001b[0;32m<ipython-input-78-3c74e4a814cb>\u001b[0m in \u001b[0;36m<module>\u001b[0;34m()\u001b[0m\n\u001b[0;32m----> 1\u001b[0;31m \u001b[0mtrain_BayesEncoding\u001b[0m\u001b[0;34m,\u001b[0m\u001b[0mtest_BayesEncoding\u001b[0m\u001b[0;34m=\u001b[0m\u001b[0mBayesEncodingKfold\u001b[0m\u001b[0;34m(\u001b[0m\u001b[0mX_train\u001b[0m\u001b[0;34m,\u001b[0m\u001b[0mX_test\u001b[0m\u001b[0;34m,\u001b[0m\u001b[0;34m'duracao_audiencia'\u001b[0m\u001b[0;34m,\u001b[0m\u001b[0;34m'reu'\u001b[0m\u001b[0;34m)\u001b[0m\u001b[0;34m\u001b[0m\u001b[0;34m\u001b[0m\u001b[0m\n\u001b[0m",
            "\u001b[0;32m/usr/local/lib/python3.6/dist-packages/hccEncoding/EncoderForRegression.py\u001b[0m in \u001b[0;36mBayesEncodingKfold\u001b[0;34m(train, test, target, feature, k, f, noise, drop_origin_feature, fold)\u001b[0m\n\u001b[1;32m     37\u001b[0m \u001b[0;34m\u001b[0m\u001b[0m\n\u001b[1;32m     38\u001b[0m \u001b[0;32mdef\u001b[0m \u001b[0mBayesEncodingKfold\u001b[0m\u001b[0;34m(\u001b[0m\u001b[0mtrain\u001b[0m\u001b[0;34m,\u001b[0m\u001b[0mtest\u001b[0m\u001b[0;34m,\u001b[0m\u001b[0mtarget\u001b[0m\u001b[0;34m,\u001b[0m\u001b[0mfeature\u001b[0m\u001b[0;34m,\u001b[0m\u001b[0mk\u001b[0m\u001b[0;34m=\u001b[0m\u001b[0;36m5\u001b[0m\u001b[0;34m,\u001b[0m\u001b[0mf\u001b[0m\u001b[0;34m=\u001b[0m\u001b[0;36m1\u001b[0m\u001b[0;34m,\u001b[0m\u001b[0mnoise\u001b[0m\u001b[0;34m=\u001b[0m\u001b[0;36m0.01\u001b[0m\u001b[0;34m,\u001b[0m\u001b[0mdrop_origin_feature\u001b[0m\u001b[0;34m=\u001b[0m\u001b[0;32mFalse\u001b[0m\u001b[0;34m,\u001b[0m\u001b[0mfold\u001b[0m\u001b[0;34m=\u001b[0m\u001b[0;36m5\u001b[0m\u001b[0;34m)\u001b[0m\u001b[0;34m:\u001b[0m\u001b[0;34m\u001b[0m\u001b[0;34m\u001b[0m\u001b[0m\n\u001b[0;32m---> 39\u001b[0;31m     \u001b[0mtrain_no_use\u001b[0m\u001b[0;34m,\u001b[0m\u001b[0mtest_useful\u001b[0m\u001b[0;34m=\u001b[0m\u001b[0mBayesEncoding\u001b[0m\u001b[0;34m(\u001b[0m\u001b[0mtrain\u001b[0m\u001b[0;34m,\u001b[0m\u001b[0mtest\u001b[0m\u001b[0;34m,\u001b[0m\u001b[0mtarget\u001b[0m\u001b[0;34m,\u001b[0m\u001b[0mfeature\u001b[0m\u001b[0;34m,\u001b[0m\u001b[0mk\u001b[0m\u001b[0;34m,\u001b[0m\u001b[0mf\u001b[0m\u001b[0;34m,\u001b[0m\u001b[0mnoise\u001b[0m\u001b[0;34m,\u001b[0m\u001b[0mdrop_origin_feature\u001b[0m\u001b[0;34m)\u001b[0m\u001b[0;34m\u001b[0m\u001b[0;34m\u001b[0m\u001b[0m\n\u001b[0m\u001b[1;32m     40\u001b[0m     \u001b[0mskf\u001b[0m \u001b[0;34m=\u001b[0m \u001b[0mStratifiedKFold\u001b[0m\u001b[0;34m(\u001b[0m\u001b[0mfold\u001b[0m\u001b[0;34m)\u001b[0m\u001b[0;34m\u001b[0m\u001b[0;34m\u001b[0m\u001b[0m\n\u001b[1;32m     41\u001b[0m     \u001b[0malltrain_min\u001b[0m\u001b[0;34m=\u001b[0m\u001b[0;34m[\u001b[0m\u001b[0;34m]\u001b[0m\u001b[0;34m\u001b[0m\u001b[0;34m\u001b[0m\u001b[0m\n",
            "\u001b[0;32m/usr/local/lib/python3.6/dist-packages/hccEncoding/EncoderForRegression.py\u001b[0m in \u001b[0;36mBayesEncoding\u001b[0;34m(train, test, target, feature, k, f, noise, drop_origin_feature)\u001b[0m\n\u001b[1;32m     10\u001b[0m \u001b[0;31m###paper: A preprocessing scheme for high cardinality categorical attributes in classification and prediction problems\u001b[0m\u001b[0;34m\u001b[0m\u001b[0;34m\u001b[0m\u001b[0;34m\u001b[0m\u001b[0m\n\u001b[1;32m     11\u001b[0m \u001b[0;32mdef\u001b[0m \u001b[0mBayesEncoding\u001b[0m\u001b[0;34m(\u001b[0m\u001b[0mtrain\u001b[0m\u001b[0;34m,\u001b[0m\u001b[0mtest\u001b[0m\u001b[0;34m,\u001b[0m\u001b[0mtarget\u001b[0m\u001b[0;34m,\u001b[0m\u001b[0mfeature\u001b[0m\u001b[0;34m,\u001b[0m\u001b[0mk\u001b[0m\u001b[0;34m=\u001b[0m\u001b[0;36m5\u001b[0m\u001b[0;34m,\u001b[0m\u001b[0mf\u001b[0m\u001b[0;34m=\u001b[0m\u001b[0;36m1\u001b[0m\u001b[0;34m,\u001b[0m\u001b[0mnoise\u001b[0m\u001b[0;34m=\u001b[0m\u001b[0;36m0.01\u001b[0m\u001b[0;34m,\u001b[0m\u001b[0mdrop_origin_feature\u001b[0m\u001b[0;34m=\u001b[0m\u001b[0;32mFalse\u001b[0m\u001b[0;34m)\u001b[0m\u001b[0;34m:\u001b[0m\u001b[0;34m\u001b[0m\u001b[0;34m\u001b[0m\u001b[0m\n\u001b[0;32m---> 12\u001b[0;31m     \u001b[0mentry\u001b[0m\u001b[0;34m=\u001b[0m\u001b[0mpd\u001b[0m\u001b[0;34m.\u001b[0m\u001b[0mDataFrame\u001b[0m\u001b[0;34m(\u001b[0m\u001b[0mtrain\u001b[0m\u001b[0;34m[\u001b[0m\u001b[0;34m[\u001b[0m\u001b[0mtarget\u001b[0m\u001b[0;34m,\u001b[0m\u001b[0mfeature\u001b[0m\u001b[0;34m]\u001b[0m\u001b[0;34m]\u001b[0m\u001b[0;34m,\u001b[0m\u001b[0mcolumns\u001b[0m\u001b[0;34m=\u001b[0m\u001b[0;34m[\u001b[0m\u001b[0mtarget\u001b[0m\u001b[0;34m,\u001b[0m\u001b[0mfeature\u001b[0m\u001b[0;34m]\u001b[0m\u001b[0;34m)\u001b[0m\u001b[0;34m\u001b[0m\u001b[0;34m\u001b[0m\u001b[0m\n\u001b[0m\u001b[1;32m     13\u001b[0m     \u001b[0mlibrary\u001b[0m\u001b[0;34m=\u001b[0m\u001b[0mentry\u001b[0m\u001b[0;34m.\u001b[0m\u001b[0mgroupby\u001b[0m\u001b[0;34m(\u001b[0m\u001b[0mfeature\u001b[0m\u001b[0;34m)\u001b[0m\u001b[0;34m.\u001b[0m\u001b[0magg\u001b[0m\u001b[0;34m(\u001b[0m\u001b[0;34m'mean'\u001b[0m\u001b[0;34m)\u001b[0m\u001b[0;34m.\u001b[0m\u001b[0mrename\u001b[0m\u001b[0;34m(\u001b[0m\u001b[0mcolumns\u001b[0m\u001b[0;34m=\u001b[0m\u001b[0;34m{\u001b[0m\u001b[0mtarget\u001b[0m\u001b[0;34m:\u001b[0m\u001b[0;34m'sampleMean'\u001b[0m\u001b[0;34m}\u001b[0m\u001b[0;34m)\u001b[0m\u001b[0;34m.\u001b[0m\u001b[0mreset_index\u001b[0m\u001b[0;34m(\u001b[0m\u001b[0;34m)\u001b[0m\u001b[0;34m\u001b[0m\u001b[0;34m\u001b[0m\u001b[0m\n\u001b[1;32m     14\u001b[0m     \u001b[0mcount\u001b[0m\u001b[0;34m=\u001b[0m\u001b[0mentry\u001b[0m\u001b[0;34m.\u001b[0m\u001b[0mgroupby\u001b[0m\u001b[0;34m(\u001b[0m\u001b[0mfeature\u001b[0m\u001b[0;34m)\u001b[0m\u001b[0;34m.\u001b[0m\u001b[0magg\u001b[0m\u001b[0;34m(\u001b[0m\u001b[0;34m'count'\u001b[0m\u001b[0;34m)\u001b[0m\u001b[0;34m.\u001b[0m\u001b[0mrename\u001b[0m\u001b[0;34m(\u001b[0m\u001b[0mcolumns\u001b[0m\u001b[0;34m=\u001b[0m\u001b[0;34m{\u001b[0m\u001b[0mtarget\u001b[0m\u001b[0;34m:\u001b[0m\u001b[0;34m'total_count'\u001b[0m\u001b[0;34m}\u001b[0m\u001b[0;34m)\u001b[0m\u001b[0;34m.\u001b[0m\u001b[0mreset_index\u001b[0m\u001b[0;34m(\u001b[0m\u001b[0;34m)\u001b[0m\u001b[0;34m\u001b[0m\u001b[0;34m\u001b[0m\u001b[0m\n",
            "\u001b[0;32m/usr/local/lib/python3.6/dist-packages/pandas/core/frame.py\u001b[0m in \u001b[0;36m__getitem__\u001b[0;34m(self, key)\u001b[0m\n\u001b[1;32m   2804\u001b[0m             \u001b[0;32mif\u001b[0m \u001b[0mis_iterator\u001b[0m\u001b[0;34m(\u001b[0m\u001b[0mkey\u001b[0m\u001b[0;34m)\u001b[0m\u001b[0;34m:\u001b[0m\u001b[0;34m\u001b[0m\u001b[0;34m\u001b[0m\u001b[0m\n\u001b[1;32m   2805\u001b[0m                 \u001b[0mkey\u001b[0m \u001b[0;34m=\u001b[0m \u001b[0mlist\u001b[0m\u001b[0;34m(\u001b[0m\u001b[0mkey\u001b[0m\u001b[0;34m)\u001b[0m\u001b[0;34m\u001b[0m\u001b[0;34m\u001b[0m\u001b[0m\n\u001b[0;32m-> 2806\u001b[0;31m             \u001b[0mindexer\u001b[0m \u001b[0;34m=\u001b[0m \u001b[0mself\u001b[0m\u001b[0;34m.\u001b[0m\u001b[0mloc\u001b[0m\u001b[0;34m.\u001b[0m\u001b[0m_get_listlike_indexer\u001b[0m\u001b[0;34m(\u001b[0m\u001b[0mkey\u001b[0m\u001b[0;34m,\u001b[0m \u001b[0maxis\u001b[0m\u001b[0;34m=\u001b[0m\u001b[0;36m1\u001b[0m\u001b[0;34m,\u001b[0m \u001b[0mraise_missing\u001b[0m\u001b[0;34m=\u001b[0m\u001b[0;32mTrue\u001b[0m\u001b[0;34m)\u001b[0m\u001b[0;34m[\u001b[0m\u001b[0;36m1\u001b[0m\u001b[0;34m]\u001b[0m\u001b[0;34m\u001b[0m\u001b[0;34m\u001b[0m\u001b[0m\n\u001b[0m\u001b[1;32m   2807\u001b[0m \u001b[0;34m\u001b[0m\u001b[0m\n\u001b[1;32m   2808\u001b[0m         \u001b[0;31m# take() does not accept boolean indexers\u001b[0m\u001b[0;34m\u001b[0m\u001b[0;34m\u001b[0m\u001b[0;34m\u001b[0m\u001b[0m\n",
            "\u001b[0;32m/usr/local/lib/python3.6/dist-packages/pandas/core/indexing.py\u001b[0m in \u001b[0;36m_get_listlike_indexer\u001b[0;34m(self, key, axis, raise_missing)\u001b[0m\n\u001b[1;32m   1551\u001b[0m \u001b[0;34m\u001b[0m\u001b[0m\n\u001b[1;32m   1552\u001b[0m         self._validate_read_indexer(\n\u001b[0;32m-> 1553\u001b[0;31m             \u001b[0mkeyarr\u001b[0m\u001b[0;34m,\u001b[0m \u001b[0mindexer\u001b[0m\u001b[0;34m,\u001b[0m \u001b[0mo\u001b[0m\u001b[0;34m.\u001b[0m\u001b[0m_get_axis_number\u001b[0m\u001b[0;34m(\u001b[0m\u001b[0maxis\u001b[0m\u001b[0;34m)\u001b[0m\u001b[0;34m,\u001b[0m \u001b[0mraise_missing\u001b[0m\u001b[0;34m=\u001b[0m\u001b[0mraise_missing\u001b[0m\u001b[0;34m\u001b[0m\u001b[0;34m\u001b[0m\u001b[0m\n\u001b[0m\u001b[1;32m   1554\u001b[0m         )\n\u001b[1;32m   1555\u001b[0m         \u001b[0;32mreturn\u001b[0m \u001b[0mkeyarr\u001b[0m\u001b[0;34m,\u001b[0m \u001b[0mindexer\u001b[0m\u001b[0;34m\u001b[0m\u001b[0;34m\u001b[0m\u001b[0m\n",
            "\u001b[0;32m/usr/local/lib/python3.6/dist-packages/pandas/core/indexing.py\u001b[0m in \u001b[0;36m_validate_read_indexer\u001b[0;34m(self, key, indexer, axis, raise_missing)\u001b[0m\n\u001b[1;32m   1644\u001b[0m             \u001b[0;32mif\u001b[0m \u001b[0;32mnot\u001b[0m \u001b[0;34m(\u001b[0m\u001b[0mself\u001b[0m\u001b[0;34m.\u001b[0m\u001b[0mname\u001b[0m \u001b[0;34m==\u001b[0m \u001b[0;34m\"loc\"\u001b[0m \u001b[0;32mand\u001b[0m \u001b[0;32mnot\u001b[0m \u001b[0mraise_missing\u001b[0m\u001b[0;34m)\u001b[0m\u001b[0;34m:\u001b[0m\u001b[0;34m\u001b[0m\u001b[0;34m\u001b[0m\u001b[0m\n\u001b[1;32m   1645\u001b[0m                 \u001b[0mnot_found\u001b[0m \u001b[0;34m=\u001b[0m \u001b[0mlist\u001b[0m\u001b[0;34m(\u001b[0m\u001b[0mset\u001b[0m\u001b[0;34m(\u001b[0m\u001b[0mkey\u001b[0m\u001b[0;34m)\u001b[0m \u001b[0;34m-\u001b[0m \u001b[0mset\u001b[0m\u001b[0;34m(\u001b[0m\u001b[0max\u001b[0m\u001b[0;34m)\u001b[0m\u001b[0;34m)\u001b[0m\u001b[0;34m\u001b[0m\u001b[0;34m\u001b[0m\u001b[0m\n\u001b[0;32m-> 1646\u001b[0;31m                 \u001b[0;32mraise\u001b[0m \u001b[0mKeyError\u001b[0m\u001b[0;34m(\u001b[0m\u001b[0;34mf\"{not_found} not in index\"\u001b[0m\u001b[0;34m)\u001b[0m\u001b[0;34m\u001b[0m\u001b[0;34m\u001b[0m\u001b[0m\n\u001b[0m\u001b[1;32m   1647\u001b[0m \u001b[0;34m\u001b[0m\u001b[0m\n\u001b[1;32m   1648\u001b[0m             \u001b[0;31m# we skip the warning on Categorical/Interval\u001b[0m\u001b[0;34m\u001b[0m\u001b[0;34m\u001b[0m\u001b[0;34m\u001b[0m\u001b[0m\n",
            "\u001b[0;31mKeyError\u001b[0m: \"['duracao_audiencia'] not in index\""
          ]
        }
      ]
    },
    {
      "cell_type": "code",
      "metadata": {
        "id": "CS8vX-cKHfXJ",
        "colab_type": "code",
        "colab": {
          "base_uri": "https://localhost:8080/",
          "height": 170
        },
        "outputId": "04257c54-8d78-48ef-8cef-06b9ee28dc01"
      },
      "source": [
        "# Usando algoritimo \n",
        "from sklearn.ensemble import GradientBoostingRegressor\n",
        "regressor = GradientBoostingRegressor(max_depth=2, n_estimators=3, learning_rate=1.0, random_state=22)\n",
        "regressor.fit(X_train_ord, y_train_ord)"
      ],
      "execution_count": 85,
      "outputs": [
        {
          "output_type": "execute_result",
          "data": {
            "text/plain": [
              "GradientBoostingRegressor(alpha=0.9, ccp_alpha=0.0, criterion='friedman_mse',\n",
              "                          init=None, learning_rate=1.0, loss='ls', max_depth=2,\n",
              "                          max_features=None, max_leaf_nodes=None,\n",
              "                          min_impurity_decrease=0.0, min_impurity_split=None,\n",
              "                          min_samples_leaf=1, min_samples_split=2,\n",
              "                          min_weight_fraction_leaf=0.0, n_estimators=3,\n",
              "                          n_iter_no_change=None, presort='deprecated',\n",
              "                          random_state=22, subsample=1.0, tol=0.0001,\n",
              "                          validation_fraction=0.1, verbose=0, warm_start=False)"
            ]
          },
          "metadata": {
            "tags": []
          },
          "execution_count": 85
        }
      ]
    },
    {
      "cell_type": "code",
      "metadata": {
        "id": "f47gZMvbWctw",
        "colab_type": "code",
        "colab": {}
      },
      "source": [
        "from sklearn.metrics import mean_squared_error\n",
        "errors = [mean_squared_error(y_test_ord, y_pred) for y_pred in regressor.staged_predict(X_test_ord)]\n",
        "best_n_estimators = np.argmin(errors)"
      ],
      "execution_count": 86,
      "outputs": []
    },
    {
      "cell_type": "code",
      "metadata": {
        "id": "jRera5ApWv_h",
        "colab_type": "code",
        "colab": {
          "base_uri": "https://localhost:8080/",
          "height": 34
        },
        "outputId": "6bd4f2d8-d1ab-4187-b245-c5dcca2e70f1"
      },
      "source": [
        "best_n_estimators"
      ],
      "execution_count": 87,
      "outputs": [
        {
          "output_type": "execute_result",
          "data": {
            "text/plain": [
              "2"
            ]
          },
          "metadata": {
            "tags": []
          },
          "execution_count": 87
        }
      ]
    },
    {
      "cell_type": "code",
      "metadata": {
        "id": "4FFQjYxTW9My",
        "colab_type": "code",
        "colab": {
          "base_uri": "https://localhost:8080/",
          "height": 170
        },
        "outputId": "5afcffb6-5b6f-4f89-fee8-bb838c3bc932"
      },
      "source": [
        "regressor = GradientBoostingRegressor(max_depth=2, n_estimators=best_n_estimators, learning_rate=1.0, random_state=22)\n",
        "regressor.fit(X_train_ord, y_train_ord)"
      ],
      "execution_count": 88,
      "outputs": [
        {
          "output_type": "execute_result",
          "data": {
            "text/plain": [
              "GradientBoostingRegressor(alpha=0.9, ccp_alpha=0.0, criterion='friedman_mse',\n",
              "                          init=None, learning_rate=1.0, loss='ls', max_depth=2,\n",
              "                          max_features=None, max_leaf_nodes=None,\n",
              "                          min_impurity_decrease=0.0, min_impurity_split=None,\n",
              "                          min_samples_leaf=1, min_samples_split=2,\n",
              "                          min_weight_fraction_leaf=0.0, n_estimators=2,\n",
              "                          n_iter_no_change=None, presort='deprecated',\n",
              "                          random_state=22, subsample=1.0, tol=0.0001,\n",
              "                          validation_fraction=0.1, verbose=0, warm_start=False)"
            ]
          },
          "metadata": {
            "tags": []
          },
          "execution_count": 88
        }
      ]
    },
    {
      "cell_type": "code",
      "metadata": {
        "id": "Y2OAoyrZXImW",
        "colab_type": "code",
        "colab": {
          "base_uri": "https://localhost:8080/",
          "height": 34
        },
        "outputId": "e42d4107-afc4-44b1-f7e9-63449e7237a4"
      },
      "source": [
        "predito = regressor.predict(X_test_ord)\n",
        "mean_absolute_error(y_test_ord, predito)"
      ],
      "execution_count": 89,
      "outputs": [
        {
          "output_type": "execute_result",
          "data": {
            "text/plain": [
              "7.520213456072019"
            ]
          },
          "metadata": {
            "tags": []
          },
          "execution_count": 89
        }
      ]
    },
    {
      "cell_type": "code",
      "metadata": {
        "id": "YAnMW1vTYeYB",
        "colab_type": "code",
        "colab": {
          "base_uri": "https://localhost:8080/",
          "height": 51
        },
        "outputId": "7c2116be-8952-44a7-c37c-457ebda59854"
      },
      "source": [
        "predito[:10]"
      ],
      "execution_count": 90,
      "outputs": [
        {
          "output_type": "execute_result",
          "data": {
            "text/plain": [
              "array([19.20273855, 19.20273855,  3.35271639,  3.35271639, 23.85806602,\n",
              "       19.20273855, 19.20273855, 10.04608718,  3.35271639, 11.31332959])"
            ]
          },
          "metadata": {
            "tags": []
          },
          "execution_count": 90
        }
      ]
    },
    {
      "cell_type": "code",
      "metadata": {
        "id": "jycaLMx7Yk9r",
        "colab_type": "code",
        "colab": {
          "base_uri": "https://localhost:8080/",
          "height": 204
        },
        "outputId": "57adf527-7e8b-44dc-ad31-e629d9b6ebaa"
      },
      "source": [
        "y_test_ord[:10]"
      ],
      "execution_count": 91,
      "outputs": [
        {
          "output_type": "execute_result",
          "data": {
            "text/plain": [
              "206151    39\n",
              "6819      23\n",
              "57964      2\n",
              "59422      2\n",
              "221225    13\n",
              "141304     6\n",
              "168500     7\n",
              "149078    35\n",
              "228219     3\n",
              "35758      5\n",
              "Name: duracao_audiencia, dtype: int64"
            ]
          },
          "metadata": {
            "tags": []
          },
          "execution_count": 91
        }
      ]
    },
    {
      "cell_type": "code",
      "metadata": {
        "id": "McLanC3CYqtS",
        "colab_type": "code",
        "colab": {}
      },
      "source": [
        "# Testando XGBOOST Regression\n",
        "import xgboost as xgb"
      ],
      "execution_count": 92,
      "outputs": []
    },
    {
      "cell_type": "code",
      "metadata": {
        "id": "-jEIxXRsY-9z",
        "colab_type": "code",
        "colab": {}
      },
      "source": [
        "xg_reg = xgb.XGBRegressor(objective ='reg:squarederror', colsample_bytree = 0.3, learning_rate = 0.1, max_depth = 5, alpha = 10, n_estimators = 10, random_state=22)"
      ],
      "execution_count": 95,
      "outputs": []
    },
    {
      "cell_type": "code",
      "metadata": {
        "id": "3-BKsfq_ZEB6",
        "colab_type": "code",
        "colab": {
          "base_uri": "https://localhost:8080/",
          "height": 34
        },
        "outputId": "701d7d53-7faa-44ed-c124-4e07305713a1"
      },
      "source": [
        "xg_reg.fit(X_train_ord, y_train_ord)\n",
        "predito = xg_reg.predict(X_test_ord)\n",
        "mean_absolute_error(y_test_ord, predito)"
      ],
      "execution_count": 96,
      "outputs": [
        {
          "output_type": "execute_result",
          "data": {
            "text/plain": [
              "7.864296313580353"
            ]
          },
          "metadata": {
            "tags": []
          },
          "execution_count": 96
        }
      ]
    }
  ]
}